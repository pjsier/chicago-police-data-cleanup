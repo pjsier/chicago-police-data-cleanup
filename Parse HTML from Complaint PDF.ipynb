{
 "cells": [
  {
   "cell_type": "code",
   "execution_count": 100,
   "metadata": {
    "collapsed": true
   },
   "outputs": [],
   "source": [
    "from bs4 import BeautifulSoup\n",
    "import re\n",
    "import bisect\n",
    "import pandas as pd"
   ]
  },
  {
   "cell_type": "code",
   "execution_count": 3,
   "metadata": {
    "collapsed": false
   },
   "outputs": [],
   "source": [
    "with open('data/foia 14-3668 officers with cr allegations-html.html', 'r') as f:\n",
    "    foia_html = f.read()\n",
    "complaint_soup = BeautifulSoup(foia_html, 'html.parser')"
   ]
  },
  {
   "cell_type": "code",
   "execution_count": 120,
   "metadata": {
    "collapsed": false
   },
   "outputs": [
    {
     "data": {
      "text/plain": [
       "332656"
      ]
     },
     "execution_count": 120,
     "metadata": {},
     "output_type": "execute_result"
    }
   ],
   "source": [
    "bolds = complaint_soup.findAll(\"b\")\n",
    "len(bolds)"
   ]
  },
  {
   "cell_type": "code",
   "execution_count": 139,
   "metadata": {
    "collapsed": false
   },
   "outputs": [
    {
     "data": {
      "text/plain": [
       "332655"
      ]
     },
     "execution_count": 139,
     "metadata": {},
     "output_type": "execute_result"
    }
   ],
   "source": [
    "bold_styles = [re.search('left:\\d{1,3}px', b.parent.get('style', 'left:00px')) for b in bolds]\n",
    "bold_style_list = [b.group(0) for b in bold_styles if b is not None]\n",
    "len(bold_style_list)"
   ]
  },
  {
   "cell_type": "code",
   "execution_count": 140,
   "metadata": {
    "collapsed": false
   },
   "outputs": [
    {
     "data": {
      "text/plain": [
       "['left:41px', 'left:566px', 'left:507px', 'left:569px', 'left:523px']"
      ]
     },
     "execution_count": 140,
     "metadata": {},
     "output_type": "execute_result"
    }
   ],
   "source": [
    "bold_style_list[:5]"
   ]
  },
  {
   "cell_type": "code",
   "execution_count": 141,
   "metadata": {
    "collapsed": false
   },
   "outputs": [
    {
     "data": {
      "text/plain": [
       "15"
      ]
     },
     "execution_count": 141,
     "metadata": {},
     "output_type": "execute_result"
    }
   ],
   "source": [
    "bold_style_set = set(bold_style_list)\n",
    "len(bold_style_set)"
   ]
  },
  {
   "cell_type": "code",
   "execution_count": 142,
   "metadata": {
    "collapsed": false
   },
   "outputs": [
    {
     "data": {
      "text/plain": [
       "{'left:00px',\n",
       " 'left:179px',\n",
       " 'left:182px',\n",
       " 'left:232px',\n",
       " 'left:39px',\n",
       " 'left:41px',\n",
       " 'left:42px',\n",
       " 'left:487px',\n",
       " 'left:507px',\n",
       " 'left:50px',\n",
       " 'left:523px',\n",
       " 'left:553px',\n",
       " 'left:566px',\n",
       " 'left:569px',\n",
       " 'left:71px'}"
      ]
     },
     "execution_count": 142,
     "metadata": {},
     "output_type": "execute_result"
    }
   ],
   "source": [
    "bold_style_set"
   ]
  },
  {
   "cell_type": "code",
   "execution_count": 173,
   "metadata": {
    "collapsed": false
   },
   "outputs": [
    {
     "data": {
      "text/plain": [
       "1658703"
      ]
     },
     "execution_count": 173,
     "metadata": {},
     "output_type": "execute_result"
    }
   ],
   "source": [
    "all_ps = complaint_soup.findAll(\"p\")\n",
    "p_styles = [re.search('left:\\d{1,3}px', p.get('style', 'left:00px')) for p in all_ps]\n",
    "p_style_list = [p.group(0) for p in p_styles if p is not None]\n",
    "len(p_style_list)"
   ]
  },
  {
   "cell_type": "code",
   "execution_count": 205,
   "metadata": {
    "collapsed": false
   },
   "outputs": [
    {
     "name": "stdout",
     "output_type": "stream",
     "text": [
      "113681\n",
      "113681\n"
     ]
    }
   ],
   "source": [
    "p_action_items = [p for p in all_ps if re.match('.*left:850px.*', p['style'])]\n",
    "print(len(p_action_items))\n",
    "p_actions = [p for p in p_action_items if re.match('\\d{2,4}.*', p.get_text())]\n",
    "print(len(p_actions))"
   ]
  },
  {
   "cell_type": "code",
   "execution_count": 208,
   "metadata": {
    "collapsed": false
   },
   "outputs": [
    {
     "name": "stdout",
     "output_type": "stream",
     "text": [
      "144313\n",
      "113637\n"
     ]
    }
   ],
   "source": [
    "p_finding_items = [p for p in all_ps if re.match('.*left:78[1567].*', p['style'])]\n",
    "print(len(p_finding_items))\n",
    "p_findings = [p for p in p_finding_items if re.match('[A-Z]{2}', p.get_text())]\n",
    "print(len(p_findings))"
   ]
  },
  {
   "cell_type": "code",
   "execution_count": 199,
   "metadata": {
    "collapsed": false
   },
   "outputs": [
    {
     "name": "stdout",
     "output_type": "stream",
     "text": [
      "133123\n",
      "117785\n"
     ]
    }
   ],
   "source": [
    "p_closed_items = [p for p in all_ps if re.match('.*left:69[35678]px.*', p['style'])]\n",
    "print(len(p_696_items))\n",
    "p_closed_dates = [p for p in p_696_items if re.match('\\d{2}[ -]\\w{2,4}[ -]\\d{4}', p.get_text())]\n",
    "print(len(p_696_dates))"
   ]
  },
  {
   "cell_type": "code",
   "execution_count": 200,
   "metadata": {
    "collapsed": false
   },
   "outputs": [
    {
     "name": "stdout",
     "output_type": "stream",
     "text": [
      "133252\n",
      "117914\n"
     ]
    }
   ],
   "source": [
    "p_complaint_dates = [p for p in all_ps if re.match('.*left:61[01234]px.*', p['style'])]\n",
    "print(len(p_complaint_dates))\n",
    "p_complaint_date_items = [p for p in p_complaint_dates if re.match('\\d{2}[ -]\\w{2,4}[ -]\\d{4}', p.get_text())]\n",
    "print(len(p_complaint_date_items))"
   ]
  },
  {
   "cell_type": "code",
   "execution_count": 201,
   "metadata": {
    "collapsed": false
   },
   "outputs": [
    {
     "name": "stdout",
     "output_type": "stream",
     "text": [
      "133252\n",
      "117914\n"
     ]
    }
   ],
   "source": [
    "p_incident_dates = [p for p in all_ps if re.match('.*left:54[01234567]px.*', p['style'])]\n",
    "print(len(p_incident_dates))\n",
    "p_incident_date_items = [p for p in p_incident_dates if re.match('\\d{2}[ -]\\w{2,4}[ -]\\d{4}', p.get_text())]\n",
    "print(len(p_incident_date_items))"
   ]
  },
  {
   "cell_type": "code",
   "execution_count": 220,
   "metadata": {
    "collapsed": false
   },
   "outputs": [
    {
     "name": "stdout",
     "output_type": "stream",
     "text": [
      "235828\n"
     ]
    }
   ],
   "source": [
    "p_complaint_categories = [p for p in all_ps if re.match('.*left:173px.*', p['style'])]\n",
    "print(len(p_complaint_categories))"
   ]
  },
  {
   "cell_type": "code",
   "execution_count": 175,
   "metadata": {
    "collapsed": false
   },
   "outputs": [
    {
     "data": {
      "text/plain": [
       "49"
      ]
     },
     "execution_count": 175,
     "metadata": {},
     "output_type": "execute_result"
    }
   ],
   "source": [
    "p_style_set = set(p_style_list)\n",
    "len(p_style_set)"
   ]
  },
  {
   "cell_type": "code",
   "execution_count": 176,
   "metadata": {
    "collapsed": false
   },
   "outputs": [
    {
     "data": {
      "text/plain": [
       "{'left:126px',\n",
       " 'left:134px',\n",
       " 'left:169px',\n",
       " 'left:173px',\n",
       " 'left:179px',\n",
       " 'left:182px',\n",
       " 'left:232px',\n",
       " 'left:249px',\n",
       " 'left:346px',\n",
       " 'left:39px',\n",
       " 'left:400px',\n",
       " 'left:41px',\n",
       " 'left:42px',\n",
       " 'left:487px',\n",
       " 'left:507px',\n",
       " 'left:50px',\n",
       " 'left:523px',\n",
       " 'left:540px',\n",
       " 'left:541px',\n",
       " 'left:542px',\n",
       " 'left:543px',\n",
       " 'left:547px',\n",
       " 'left:553px',\n",
       " 'left:556px',\n",
       " 'left:566px',\n",
       " 'left:569px',\n",
       " 'left:610px',\n",
       " 'left:611px',\n",
       " 'left:612px',\n",
       " 'left:613px',\n",
       " 'left:614px',\n",
       " 'left:627px',\n",
       " 'left:693px',\n",
       " 'left:695px',\n",
       " 'left:696px',\n",
       " 'left:697px',\n",
       " 'left:698px',\n",
       " 'left:71px',\n",
       " 'left:781px',\n",
       " 'left:785px',\n",
       " 'left:786px',\n",
       " 'left:787px',\n",
       " 'left:83px',\n",
       " 'left:850px',\n",
       " 'left:85px',\n",
       " 'left:88px',\n",
       " 'left:915px',\n",
       " 'left:917px',\n",
       " 'left:94px'}"
      ]
     },
     "execution_count": 176,
     "metadata": {},
     "output_type": "execute_result"
    }
   ],
   "source": [
    "# Show unique combinations of locations to find what should search for\n",
    "p_style_set"
   ]
  },
  {
   "cell_type": "markdown",
   "metadata": {},
   "source": [
    "### Notes\n",
    "\n",
    "* Each column has unique left margin (with exceptions such as the `***` for repeated items), so take that to create columns\n",
    "* Each one also has a height attribute, can use that to group them by officer\n",
    "* First get list of officers, then list of complain number rows\n",
    "* Use bisection for linear search, sort every item by a key that is the page multiplied by 1000 plus the location within the page div\n",
    "* Can use the previous index given by bisection to place officers with complaints\n",
    "\n",
    "#### Row Details\n",
    "* Complaint number can be at slightly different location than actual row, subtract 3 px from it to make sure that it is slightly less than its associated row\n",
    "* Secondary (final code row) can just use violation code, only use items from the code column, and use bisection, but check if it is more than 5 pixels greater in location than its associated complaint. If so, then assign it to the final code attribute "
   ]
  },
  {
   "cell_type": "code",
   "execution_count": 7,
   "metadata": {
    "collapsed": false
   },
   "outputs": [
    {
     "data": {
      "text/plain": [
       "15339"
      ]
     },
     "execution_count": 7,
     "metadata": {},
     "output_type": "execute_result"
    }
   ],
   "source": [
    "officers = complaint_soup.findAll(\"p\", {\"style\" : re.compile('left:41px*')})\n",
    "len(officers)"
   ]
  },
  {
   "cell_type": "code",
   "execution_count": 154,
   "metadata": {
    "collapsed": true
   },
   "outputs": [],
   "source": [
    "def get_p_loc(p, id_string):\n",
    "    p_dict = dict()\n",
    "    p_dict[id_string] = p.get_text()\n",
    "    p_dict['page'] = int(p['class'][0][2:-1])\n",
    "    p_dict['location'] = int(re.compile('top:(\\d{1,6})px').search(str(p)).group(1))\n",
    "    p_dict['key'] = (p_dict['page']*1000) + p_dict['location']\n",
    "    return p_dict"
   ]
  },
  {
   "cell_type": "code",
   "execution_count": 246,
   "metadata": {
    "collapsed": false
   },
   "outputs": [
    {
     "data": {
      "text/plain": [
       "[{'key': 1238,\n",
       "  'location': 238,\n",
       "  'officer_name': 'PIWNICKI, RAYMOND',\n",
       "  'page': 1},\n",
       " {'key': 5633, 'location': 633, 'officer_name': 'FINNIGAN, JEROME', 'page': 5},\n",
       " {'key': 10174, 'location': 174, 'officer_name': 'CAMPBELL, SEAN', 'page': 10},\n",
       " {'key': 14341,\n",
       "  'location': 341,\n",
       "  'officer_name': 'WOJTAN, KENNETH',\n",
       "  'page': 14},\n",
       " {'key': 18341, 'location': 341, 'officer_name': 'HERRERA, KEITH', 'page': 18}]"
      ]
     },
     "execution_count": 246,
     "metadata": {},
     "output_type": "execute_result"
    }
   ],
   "source": [
    "officer_list = list()\n",
    "for officer in officers:\n",
    "    officer_list.append(get_p_loc(officer, 'officer_name'))\n",
    "officer_list[:5]"
   ]
  },
  {
   "cell_type": "code",
   "execution_count": 247,
   "metadata": {
    "collapsed": false
   },
   "outputs": [
    {
     "name": "stdout",
     "output_type": "stream",
     "text": [
      "15338\n",
      "15338\n"
     ]
    }
   ],
   "source": [
    "officer_list = sorted(officer_list, key=lambda k: k['key'])\n",
    "officer_keys = [officer['key'] for officer in officer_list]\n",
    "print(len(officer_list))\n",
    "print(len(officer_keys))"
   ]
  },
  {
   "cell_type": "code",
   "execution_count": 248,
   "metadata": {
    "collapsed": false
   },
   "outputs": [
    {
     "name": "stdout",
     "output_type": "stream",
     "text": [
      "15338\n",
      "15338\n",
      "15338\n"
     ]
    }
   ],
   "source": [
    "p_appt_date = [p for p in all_ps if re.match('.*left:346px.*', p['style'])]\n",
    "print(len(p_appt_date))\n",
    "p_appt_date_list = [p for p in p_appt_date if re.match('\\d{2}[ -]\\w{2,4}[ -]\\d{4}', p.get_text())]\n",
    "print(len(p_appt_date_list))\n",
    "appt_date_list = list()\n",
    "for ad in p_appt_date_list:\n",
    "    appt_date_list.append(get_p_loc(ad, 'appt_date'))\n",
    "print(len(appt_date_list))"
   ]
  },
  {
   "cell_type": "code",
   "execution_count": 249,
   "metadata": {
    "collapsed": false
   },
   "outputs": [
    {
     "data": {
      "text/plain": [
       "15338"
      ]
     },
     "execution_count": 249,
     "metadata": {},
     "output_type": "execute_result"
    }
   ],
   "source": [
    "# Combine appt_date and officers, must be done before merge, some with same name\n",
    "for ad in appt_date_list:\n",
    "    # Add additional to make sure because not worried about being too close together\n",
    "    off_idx = bisect.bisect(officer_keys, ad['key'] + 10)\n",
    "    officer_list[off_idx-1]['appt_date'] = ad['appt_date']\n",
    "len(officer_list)"
   ]
  },
  {
   "cell_type": "code",
   "execution_count": 143,
   "metadata": {
    "collapsed": false
   },
   "outputs": [
    {
     "data": {
      "text/plain": [
       "133253"
      ]
     },
     "execution_count": 143,
     "metadata": {},
     "output_type": "execute_result"
    }
   ],
   "source": [
    "cr_nos = complaint_soup.findAll(\"p\", {\"style\" : re.compile('left:42px*|left:41px*|left:39px*|left:50px*')})\n",
    "len(cr_nos)"
   ]
  },
  {
   "cell_type": "code",
   "execution_count": 152,
   "metadata": {
    "collapsed": false
   },
   "outputs": [
    {
     "name": "stdout",
     "output_type": "stream",
     "text": [
      "117914\n"
     ]
    },
    {
     "data": {
      "text/plain": [
       "[{'cr_no': '263295', 'key': 1273, 'location': 273, 'page': 1},\n",
       " {'cr_no': '263967', 'key': 1314, 'location': 314, 'page': 1},\n",
       " {'cr_no': '265117', 'key': 1356, 'location': 356, 'page': 1},\n",
       " {'cr_no': '266694', 'key': 1398, 'location': 398, 'page': 1},\n",
       " {'cr_no': '266986', 'key': 1440, 'location': 440, 'page': 1}]"
      ]
     },
     "execution_count": 152,
     "metadata": {},
     "output_type": "execute_result"
    }
   ],
   "source": [
    "cr_list = list()\n",
    "for cr in cr_nos:\n",
    "    if re.match('\\d{4,9}|\\*\\*\\*', cr.get_text()) is not None:\n",
    "        cr_list.append(get_p_loc(cr, 'cr_no'))\n",
    "print(len(cr_list))\n",
    "cr_list[:5]"
   ]
  },
  {
   "cell_type": "code",
   "execution_count": 250,
   "metadata": {
    "collapsed": false
   },
   "outputs": [
    {
     "data": {
      "text/plain": [
       "[{'cr_no': '263295', 'key': 1273, 'location': 273, 'page': 1},\n",
       " {'cr_no': '263967', 'key': 1314, 'location': 314, 'page': 1},\n",
       " {'cr_no': '265117', 'key': 1356, 'location': 356, 'page': 1},\n",
       " {'cr_no': '266694', 'key': 1398, 'location': 398, 'page': 1},\n",
       " {'cr_no': '266986', 'key': 1440, 'location': 440, 'page': 1}]"
      ]
     },
     "execution_count": 250,
     "metadata": {},
     "output_type": "execute_result"
    }
   ],
   "source": [
    "#sorted_cr_list = sorted(cr_list, key=lambda k: k['key']) \n",
    "sorted_officer_list = sorted(officer_list, key=lambda k: k['key'])\n",
    "sorted_cr_list[:5]"
   ]
  },
  {
   "cell_type": "code",
   "execution_count": 252,
   "metadata": {
    "collapsed": false
   },
   "outputs": [
    {
     "data": {
      "text/plain": [
       "117914"
      ]
     },
     "execution_count": 252,
     "metadata": {},
     "output_type": "execute_result"
    }
   ],
   "source": [
    "cr_officer_merge = list()\n",
    "for cr in cr_list:\n",
    "    off_idx = bisect.bisect(officer_keys, cr['key'])\n",
    "    cr_item = cr.copy()\n",
    "    # Add officer before insertion point\n",
    "    cr_item['officer_name'] = officer_list[off_idx-1]['officer_name']\n",
    "    cr_item['appt_date'] = officer_list[off_idx-1]['appt_date']\n",
    "    cr_officer_merge.append(cr_item)\n",
    "len(cr_officer_merge)"
   ]
  },
  {
   "cell_type": "code",
   "execution_count": 253,
   "metadata": {
    "collapsed": false
   },
   "outputs": [
    {
     "data": {
      "text/html": [
       "<div>\n",
       "<table border=\"1\" class=\"dataframe\">\n",
       "  <thead>\n",
       "    <tr style=\"text-align: right;\">\n",
       "      <th></th>\n",
       "      <th>appt_date</th>\n",
       "      <th>cr_no</th>\n",
       "      <th>key</th>\n",
       "      <th>location</th>\n",
       "      <th>officer_name</th>\n",
       "      <th>page</th>\n",
       "    </tr>\n",
       "  </thead>\n",
       "  <tbody>\n",
       "    <tr>\n",
       "      <th>0</th>\n",
       "      <td>08-Jun-1998</td>\n",
       "      <td>263295</td>\n",
       "      <td>1273</td>\n",
       "      <td>273</td>\n",
       "      <td>PIWNICKI, RAYMOND</td>\n",
       "      <td>1</td>\n",
       "    </tr>\n",
       "    <tr>\n",
       "      <th>1</th>\n",
       "      <td>08-Jun-1998</td>\n",
       "      <td>263967</td>\n",
       "      <td>1314</td>\n",
       "      <td>314</td>\n",
       "      <td>PIWNICKI, RAYMOND</td>\n",
       "      <td>1</td>\n",
       "    </tr>\n",
       "    <tr>\n",
       "      <th>2</th>\n",
       "      <td>08-Jun-1998</td>\n",
       "      <td>265117</td>\n",
       "      <td>1356</td>\n",
       "      <td>356</td>\n",
       "      <td>PIWNICKI, RAYMOND</td>\n",
       "      <td>1</td>\n",
       "    </tr>\n",
       "    <tr>\n",
       "      <th>3</th>\n",
       "      <td>08-Jun-1998</td>\n",
       "      <td>266694</td>\n",
       "      <td>1398</td>\n",
       "      <td>398</td>\n",
       "      <td>PIWNICKI, RAYMOND</td>\n",
       "      <td>1</td>\n",
       "    </tr>\n",
       "    <tr>\n",
       "      <th>4</th>\n",
       "      <td>08-Jun-1998</td>\n",
       "      <td>266986</td>\n",
       "      <td>1440</td>\n",
       "      <td>440</td>\n",
       "      <td>PIWNICKI, RAYMOND</td>\n",
       "      <td>1</td>\n",
       "    </tr>\n",
       "  </tbody>\n",
       "</table>\n",
       "</div>"
      ],
      "text/plain": [
       "     appt_date   cr_no   key  location       officer_name  page\n",
       "0  08-Jun-1998  263295  1273       273  PIWNICKI, RAYMOND     1\n",
       "1  08-Jun-1998  263967  1314       314  PIWNICKI, RAYMOND     1\n",
       "2  08-Jun-1998  265117  1356       356  PIWNICKI, RAYMOND     1\n",
       "3  08-Jun-1998  266694  1398       398  PIWNICKI, RAYMOND     1\n",
       "4  08-Jun-1998  266986  1440       440  PIWNICKI, RAYMOND     1"
      ]
     },
     "execution_count": 253,
     "metadata": {},
     "output_type": "execute_result"
    }
   ],
   "source": [
    "cr_df = pd.DataFrame(cr_officer_merge)\n",
    "cr_df.head()"
   ]
  },
  {
   "cell_type": "code",
   "execution_count": 254,
   "metadata": {
    "collapsed": true
   },
   "outputs": [],
   "source": [
    "cr_df.to_csv('initial_cr_officer_merge.csv',index=False)"
   ]
  },
  {
   "cell_type": "code",
   "execution_count": 257,
   "metadata": {
    "collapsed": false
   },
   "outputs": [
    {
     "data": {
      "text/plain": [
       "235828"
      ]
     },
     "execution_count": 257,
     "metadata": {},
     "output_type": "execute_result"
    }
   ],
   "source": [
    "cr_codes = complaint_soup.findAll(\"p\", {'style': re.compile('left:134px*')})\n",
    "len(cr_codes)\n",
    "# Matches up exactly to double the number of complaints"
   ]
  },
  {
   "cell_type": "code",
   "execution_count": 165,
   "metadata": {
    "collapsed": false
   },
   "outputs": [
    {
     "data": {
      "text/plain": [
       "235828"
      ]
     },
     "execution_count": 165,
     "metadata": {},
     "output_type": "execute_result"
    }
   ],
   "source": [
    "cr_code_list = list()\n",
    "for cr in cr_codes:\n",
    "    cr_code_list.append(get_p_loc(cr, 'cr_code'))\n",
    "len(cr_code_list)"
   ]
  },
  {
   "cell_type": "code",
   "execution_count": 255,
   "metadata": {
    "collapsed": false
   },
   "outputs": [
    {
     "data": {
      "text/plain": [
       "[1273, 1314, 1356, 1398, 1440]"
      ]
     },
     "execution_count": 255,
     "metadata": {},
     "output_type": "execute_result"
    }
   ],
   "source": [
    "complaint_keys = [c['key'] for c in cr_officer_merge]\n",
    "complaint_keys[:5]"
   ]
  },
  {
   "cell_type": "code",
   "execution_count": 258,
   "metadata": {
    "collapsed": false
   },
   "outputs": [
    {
     "data": {
      "text/plain": [
       "117914"
      ]
     },
     "execution_count": 258,
     "metadata": {},
     "output_type": "execute_result"
    }
   ],
   "source": [
    "# Because complaint top location may be slightly lower than the cr code, bisect with a 3px padding added\n",
    "# if the difference is greater than 5 px between the heights, add as the final code\n",
    "for cr in cr_code_list:\n",
    "    cr_idx = bisect.bisect(complaint_keys, (cr['key'] + 3))\n",
    "    # Check if the difference between the code and the complaint row is more than 5 px, if so, add as final\n",
    "    if ((cr['key'] + 3) - cr_officer_merge[cr_idx-1]['key']) > 5:\n",
    "        cr_officer_merge[cr_idx-1]['final_category_code'] = cr['cr_code']\n",
    "    else:\n",
    "        cr_officer_merge[cr_idx-1]['initial_category_code'] = cr['cr_code']\n",
    "len(cr_officer_merge)"
   ]
  },
  {
   "cell_type": "code",
   "execution_count": 260,
   "metadata": {
    "collapsed": false
   },
   "outputs": [],
   "source": [
    "cr_df = pd.DataFrame(cr_officer_merge)\n",
    "cr_df.to_csv('cr_officer_merge_codes.csv',index=False)"
   ]
  },
  {
   "cell_type": "code",
   "execution_count": 211,
   "metadata": {
    "collapsed": false
   },
   "outputs": [
    {
     "name": "stdout",
     "output_type": "stream",
     "text": [
      "Action list length : 113681\n",
      "Finding list length : 113637\n",
      "Closed date list length: 117785\n",
      "Incident date list length: 117914\n",
      "Complaint date list length: 117914\n"
     ]
    }
   ],
   "source": [
    "cr_action_list = list()\n",
    "for cr in p_actions:\n",
    "    cr_action_list.append(get_p_loc(cr, 'action'))\n",
    "print('Action list length : {}'.format(len(cr_action_list)))\n",
    "\n",
    "cr_finding_list = list()\n",
    "for cr in p_findings:\n",
    "    cr_finding_list.append(get_p_loc(cr, 'finding'))\n",
    "print('Finding list length : {}'.format(len(cr_finding_list)))\n",
    "\n",
    "closed_date_list = list()\n",
    "for cr in p_closed_dates:\n",
    "    closed_date_list.append(get_p_loc(cr, 'closed_date'))\n",
    "print('Closed date list length: {}'.format(len(closed_date_list)))\n",
    "\n",
    "incident_date_list = list()\n",
    "for cr in p_incident_date_items:\n",
    "    incident_date_list.append(get_p_loc(cr, 'incident_date'))\n",
    "print('Incident date list length: {}'.format(len(incident_date_list)))\n",
    "\n",
    "complaint_date_list = list()\n",
    "for cr in p_complaint_date_items:\n",
    "    complaint_date_list.append(get_p_loc(cr, 'complaint_date'))\n",
    "print('Complaint date list length: {}'.format(len(complaint_date_list)))"
   ]
  },
  {
   "cell_type": "code",
   "execution_count": 261,
   "metadata": {
    "collapsed": false
   },
   "outputs": [
    {
     "data": {
      "text/plain": [
       "[{'action': '600-No Action Taken',\n",
       "  'appt_date': '08-Jun-1998',\n",
       "  'cr_no': '263295',\n",
       "  'final_category_code': '05A',\n",
       "  'initial_category_code': '05A',\n",
       "  'key': 1273,\n",
       "  'location': 273,\n",
       "  'officer_name': 'PIWNICKI, RAYMOND',\n",
       "  'page': 1},\n",
       " {'action': '100-Reprimand',\n",
       "  'appt_date': '08-Jun-1998',\n",
       "  'cr_no': '263967',\n",
       "  'final_category_code': '10M',\n",
       "  'initial_category_code': '10M',\n",
       "  'key': 1314,\n",
       "  'location': 314,\n",
       "  'officer_name': 'PIWNICKI, RAYMOND',\n",
       "  'page': 1},\n",
       " {'action': '600-No Action Taken',\n",
       "  'appt_date': '08-Jun-1998',\n",
       "  'cr_no': '265117',\n",
       "  'final_category_code': '05A',\n",
       "  'initial_category_code': '05A',\n",
       "  'key': 1356,\n",
       "  'location': 356,\n",
       "  'officer_name': 'PIWNICKI, RAYMOND',\n",
       "  'page': 1},\n",
       " {'action': '600-No Action Taken',\n",
       "  'appt_date': '08-Jun-1998',\n",
       "  'cr_no': '266694',\n",
       "  'final_category_code': '05N',\n",
       "  'initial_category_code': '05N',\n",
       "  'key': 1398,\n",
       "  'location': 398,\n",
       "  'officer_name': 'PIWNICKI, RAYMOND',\n",
       "  'page': 1},\n",
       " {'action': '600-No Action Taken',\n",
       "  'appt_date': '08-Jun-1998',\n",
       "  'cr_no': '266986',\n",
       "  'final_category_code': '05A',\n",
       "  'initial_category_code': '05A',\n",
       "  'key': 1440,\n",
       "  'location': 440,\n",
       "  'officer_name': 'PIWNICKI, RAYMOND',\n",
       "  'page': 1}]"
      ]
     },
     "execution_count": 261,
     "metadata": {},
     "output_type": "execute_result"
    }
   ],
   "source": [
    "# Because complaint top location may be slightly lower than items, bisect with a 3px padding added\n",
    "cr_officer_add = cr_officer_merge.copy()\n",
    "for cr in cr_action_list:\n",
    "    cr_idx = bisect.bisect(complaint_keys, (cr['key'] + 3))\n",
    "    cr_officer_add[cr_idx-1]['action'] = cr['action']\n",
    "cr_officer_add[:5]"
   ]
  },
  {
   "cell_type": "code",
   "execution_count": 262,
   "metadata": {
    "collapsed": false
   },
   "outputs": [
    {
     "data": {
      "text/plain": [
       "[{'action': '600-No Action Taken',\n",
       "  'appt_date': '08-Jun-1998',\n",
       "  'cr_no': '263295',\n",
       "  'final_category_code': '05A',\n",
       "  'finding': 'NS',\n",
       "  'initial_category_code': '05A',\n",
       "  'key': 1273,\n",
       "  'location': 273,\n",
       "  'officer_name': 'PIWNICKI, RAYMOND',\n",
       "  'page': 1},\n",
       " {'action': '100-Reprimand',\n",
       "  'appt_date': '08-Jun-1998',\n",
       "  'cr_no': '263967',\n",
       "  'final_category_code': '10M',\n",
       "  'finding': 'SU',\n",
       "  'initial_category_code': '10M',\n",
       "  'key': 1314,\n",
       "  'location': 314,\n",
       "  'officer_name': 'PIWNICKI, RAYMOND',\n",
       "  'page': 1},\n",
       " {'action': '600-No Action Taken',\n",
       "  'appt_date': '08-Jun-1998',\n",
       "  'cr_no': '265117',\n",
       "  'final_category_code': '05A',\n",
       "  'finding': 'NS',\n",
       "  'initial_category_code': '05A',\n",
       "  'key': 1356,\n",
       "  'location': 356,\n",
       "  'officer_name': 'PIWNICKI, RAYMOND',\n",
       "  'page': 1},\n",
       " {'action': '600-No Action Taken',\n",
       "  'appt_date': '08-Jun-1998',\n",
       "  'cr_no': '266694',\n",
       "  'final_category_code': '05N',\n",
       "  'finding': 'NS',\n",
       "  'initial_category_code': '05N',\n",
       "  'key': 1398,\n",
       "  'location': 398,\n",
       "  'officer_name': 'PIWNICKI, RAYMOND',\n",
       "  'page': 1},\n",
       " {'action': '600-No Action Taken',\n",
       "  'appt_date': '08-Jun-1998',\n",
       "  'cr_no': '266986',\n",
       "  'final_category_code': '05A',\n",
       "  'finding': 'UN',\n",
       "  'initial_category_code': '05A',\n",
       "  'key': 1440,\n",
       "  'location': 440,\n",
       "  'officer_name': 'PIWNICKI, RAYMOND',\n",
       "  'page': 1}]"
      ]
     },
     "execution_count": 262,
     "metadata": {},
     "output_type": "execute_result"
    }
   ],
   "source": [
    "for cr in cr_finding_list:\n",
    "    cr_idx = bisect.bisect(complaint_keys, (cr['key'] + 3))\n",
    "    cr_officer_add[cr_idx-1]['finding'] = cr['finding']\n",
    "cr_officer_add[:5]"
   ]
  },
  {
   "cell_type": "code",
   "execution_count": 263,
   "metadata": {
    "collapsed": false
   },
   "outputs": [
    {
     "data": {
      "text/plain": [
       "{'action': '600-No Action Taken',\n",
       " 'appt_date': '08-Jun-1998',\n",
       " 'closed_date': '05-Jan-2001',\n",
       " 'cr_no': '263295',\n",
       " 'final_category_code': '05A',\n",
       " 'finding': 'NS',\n",
       " 'initial_category_code': '05A',\n",
       " 'key': 1273,\n",
       " 'location': 273,\n",
       " 'officer_name': 'PIWNICKI, RAYMOND',\n",
       " 'page': 1}"
      ]
     },
     "execution_count": 263,
     "metadata": {},
     "output_type": "execute_result"
    }
   ],
   "source": [
    "for cr in closed_date_list:\n",
    "    cr_idx = bisect.bisect(complaint_keys, (cr['key'] + 3))\n",
    "    cr_officer_add[cr_idx-1]['closed_date'] = cr['closed_date']\n",
    "cr_officer_add[0]"
   ]
  },
  {
   "cell_type": "code",
   "execution_count": 264,
   "metadata": {
    "collapsed": false
   },
   "outputs": [
    {
     "data": {
      "text/plain": [
       "{'action': '600-No Action Taken',\n",
       " 'appt_date': '08-Jun-1998',\n",
       " 'closed_date': '05-Jan-2001',\n",
       " 'cr_no': '263295',\n",
       " 'final_category_code': '05A',\n",
       " 'finding': 'NS',\n",
       " 'incident_date': '21 Jun 2000',\n",
       " 'initial_category_code': '05A',\n",
       " 'key': 1273,\n",
       " 'location': 273,\n",
       " 'officer_name': 'PIWNICKI, RAYMOND',\n",
       " 'page': 1}"
      ]
     },
     "execution_count": 264,
     "metadata": {},
     "output_type": "execute_result"
    }
   ],
   "source": [
    "for cr in incident_date_list:\n",
    "    cr_idx = bisect.bisect(complaint_keys, (cr['key'] + 3))\n",
    "    cr_officer_add[cr_idx-1]['incident_date'] = cr['incident_date']\n",
    "cr_officer_add[0]"
   ]
  },
  {
   "cell_type": "code",
   "execution_count": 265,
   "metadata": {
    "collapsed": false
   },
   "outputs": [
    {
     "data": {
      "text/plain": [
       "{'action': '600-No Action Taken',\n",
       " 'appt_date': '08-Jun-1998',\n",
       " 'closed_date': '05-Jan-2001',\n",
       " 'complaint_date': '22 Jun 2000',\n",
       " 'cr_no': '263295',\n",
       " 'final_category_code': '05A',\n",
       " 'finding': 'NS',\n",
       " 'incident_date': '21 Jun 2000',\n",
       " 'initial_category_code': '05A',\n",
       " 'key': 1273,\n",
       " 'location': 273,\n",
       " 'officer_name': 'PIWNICKI, RAYMOND',\n",
       " 'page': 1}"
      ]
     },
     "execution_count": 265,
     "metadata": {},
     "output_type": "execute_result"
    }
   ],
   "source": [
    "for cr in complaint_date_list:\n",
    "    cr_idx = bisect.bisect(complaint_keys, (cr['key'] + 3))\n",
    "    cr_officer_add[cr_idx-1]['complaint_date'] = cr['complaint_date']\n",
    "cr_officer_add[0]"
   ]
  },
  {
   "cell_type": "code",
   "execution_count": 266,
   "metadata": {
    "collapsed": false
   },
   "outputs": [
    {
     "name": "stdout",
     "output_type": "stream",
     "text": [
      "<class 'pandas.core.frame.DataFrame'>\n",
      "RangeIndex: 117914 entries, 0 to 117913\n",
      "Data columns (total 13 columns):\n",
      "action                   113681 non-null object\n",
      "appt_date                117914 non-null object\n",
      "closed_date              117785 non-null object\n",
      "complaint_date           117914 non-null object\n",
      "cr_no                    117914 non-null object\n",
      "final_category_code      117914 non-null object\n",
      "finding                  113637 non-null object\n",
      "incident_date            117914 non-null object\n",
      "initial_category_code    117914 non-null object\n",
      "key                      117914 non-null int64\n",
      "location                 117914 non-null int64\n",
      "officer_name             117914 non-null object\n",
      "page                     117914 non-null int64\n",
      "dtypes: int64(3), object(10)\n",
      "memory usage: 11.7+ MB\n"
     ]
    }
   ],
   "source": [
    "merged_officer_items = pd.DataFrame(cr_officer_add)\n",
    "merged_officer_items.info(verbose=True)"
   ]
  },
  {
   "cell_type": "code",
   "execution_count": 267,
   "metadata": {
    "collapsed": true
   },
   "outputs": [],
   "source": [
    "merged_officer_items.to_csv('officer_complaints_first_draft.csv',index=False)"
   ]
  },
  {
   "cell_type": "code",
   "execution_count": 268,
   "metadata": {
    "collapsed": false
   },
   "outputs": [
    {
     "data": {
      "text/plain": [
       "235828"
      ]
     },
     "execution_count": 268,
     "metadata": {},
     "output_type": "execute_result"
    }
   ],
   "source": [
    "complaint_category_list = list()\n",
    "for cr in p_complaint_categories:\n",
    "    complaint_category_list.append(get_p_loc(cr, 'complaint_category'))\n",
    "len(complaint_category_list)"
   ]
  },
  {
   "cell_type": "code",
   "execution_count": 269,
   "metadata": {
    "collapsed": false
   },
   "outputs": [
    {
     "data": {
      "text/plain": [
       "117914"
      ]
     },
     "execution_count": 269,
     "metadata": {},
     "output_type": "execute_result"
    }
   ],
   "source": [
    "# Because complaint top location may be slightly lower than the cr code, bisect with a 3px padding added\n",
    "# if the difference is greater than 5 px between the heights, add as the final code\n",
    "for cr in complaint_category_list:\n",
    "    cr_idx = bisect.bisect(complaint_keys, (cr['key'] + 3))\n",
    "    # Check if the difference between the code and the complaint row is more than 5 px, if so, add as final\n",
    "    if ((cr['key'] + 3) - cr_officer_add[cr_idx-1]['key']) > 5:\n",
    "        cr_officer_add[cr_idx-1]['final_complaint_category'] = cr['complaint_category']\n",
    "    else:\n",
    "        cr_officer_add[cr_idx-1]['initial_complaint_category'] = cr['complaint_category']\n",
    "len(cr_officer_add)"
   ]
  },
  {
   "cell_type": "code",
   "execution_count": 270,
   "metadata": {
    "collapsed": false
   },
   "outputs": [
    {
     "name": "stdout",
     "output_type": "stream",
     "text": [
      "<class 'pandas.core.frame.DataFrame'>\n",
      "RangeIndex: 117914 entries, 0 to 117913\n",
      "Data columns (total 15 columns):\n",
      "action                        113681 non-null object\n",
      "appt_date                     117914 non-null object\n",
      "closed_date                   117785 non-null object\n",
      "complaint_date                117914 non-null object\n",
      "cr_no                         117914 non-null object\n",
      "final_category_code           117914 non-null object\n",
      "final_complaint_category      117914 non-null object\n",
      "finding                       113637 non-null object\n",
      "incident_date                 117914 non-null object\n",
      "initial_category_code         117914 non-null object\n",
      "initial_complaint_category    117914 non-null object\n",
      "key                           117914 non-null int64\n",
      "location                      117914 non-null int64\n",
      "officer_name                  117914 non-null object\n",
      "page                          117914 non-null int64\n",
      "dtypes: int64(3), object(12)\n",
      "memory usage: 13.5+ MB\n"
     ]
    }
   ],
   "source": [
    "merged_officer_items = pd.DataFrame(cr_officer_add)\n",
    "merged_officer_items.info(verbose=True)"
   ]
  },
  {
   "cell_type": "code",
   "execution_count": 271,
   "metadata": {
    "collapsed": true
   },
   "outputs": [],
   "source": [
    "merged_officer_items.to_csv('officer_complaints_from_pdf.csv',index=False)"
   ]
  },
  {
   "cell_type": "code",
   "execution_count": null,
   "metadata": {
    "collapsed": true
   },
   "outputs": [],
   "source": []
  }
 ],
 "metadata": {
  "kernelspec": {
   "display_name": "Python 3",
   "language": "python",
   "name": "python3"
  },
  "language_info": {
   "codemirror_mode": {
    "name": "ipython",
    "version": 3
   },
   "file_extension": ".py",
   "mimetype": "text/x-python",
   "name": "python",
   "nbconvert_exporter": "python",
   "pygments_lexer": "ipython3",
   "version": "3.5.2"
  }
 },
 "nbformat": 4,
 "nbformat_minor": 1
}
