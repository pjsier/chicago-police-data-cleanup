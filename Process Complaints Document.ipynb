{
 "cells": [
  {
   "cell_type": "code",
   "execution_count": 1,
   "metadata": {
    "collapsed": true
   },
   "outputs": [],
   "source": [
    "from __future__ import absolute_import, division, print_function, unicode_literals\n",
    "\n",
    "import numpy as np\n",
    "import pandas as pd\n",
    "import matplotlib.pyplot as plt\n",
    "import seaborn as sns\n",
    "%matplotlib inline"
   ]
  },
  {
   "cell_type": "code",
   "execution_count": 2,
   "metadata": {
    "collapsed": false
   },
   "outputs": [
    {
     "name": "stdout",
     "output_type": "stream",
     "text": [
      "<class 'pandas.core.frame.DataFrame'>\n",
      "RangeIndex: 134683 entries, 0 to 134682\n",
      "Data columns (total 12 columns):\n",
      "NAME                          134683 non-null object\n",
      "UNIT                          134528 non-null object\n",
      "DATE_OF_APPOINTMENT           134486 non-null object\n",
      "CR_NO                         134683 non-null int64\n",
      "INITIAL_COMPLAINT_CATEGORY    134683 non-null object\n",
      "FINAL_COMPLAINT_CATEGORY      134683 non-null object\n",
      "INCIDENT_DATE                 134462 non-null object\n",
      "COMPLAINT_DATE                134683 non-null object\n",
      "CLOSED_DATE                   133294 non-null object\n",
      "FINAL_FINDING                 134683 non-null object\n",
      "ACTION_TAKEN                  134683 non-null int64\n",
      "ACTION_DESCR                  134683 non-null object\n",
      "dtypes: int64(2), object(10)\n",
      "memory usage: 12.3+ MB\n"
     ]
    }
   ],
   "source": [
    "complaint_df = pd.read_excel('data/CR_AllRecords.xlsx')\n",
    "complaint_df.info(verbose=True)"
   ]
  },
  {
   "cell_type": "code",
   "execution_count": 3,
   "metadata": {
    "collapsed": false
   },
   "outputs": [
    {
     "data": {
      "text/html": [
       "<div>\n",
       "<table border=\"1\" class=\"dataframe\">\n",
       "  <thead>\n",
       "    <tr style=\"text-align: right;\">\n",
       "      <th></th>\n",
       "      <th>NAME</th>\n",
       "      <th>UNIT</th>\n",
       "      <th>DATE_OF_APPOINTMENT</th>\n",
       "      <th>CR_NO</th>\n",
       "      <th>INITIAL_COMPLAINT_CATEGORY</th>\n",
       "      <th>FINAL_COMPLAINT_CATEGORY</th>\n",
       "      <th>INCIDENT_DATE</th>\n",
       "      <th>COMPLAINT_DATE</th>\n",
       "      <th>CLOSED_DATE</th>\n",
       "      <th>FINAL_FINDING</th>\n",
       "      <th>ACTION_TAKEN</th>\n",
       "      <th>ACTION_DESCR</th>\n",
       "    </tr>\n",
       "  </thead>\n",
       "  <tbody>\n",
       "    <tr>\n",
       "      <th>0</th>\n",
       "      <td>ABBATE, ANTHONY G</td>\n",
       "      <td>011</td>\n",
       "      <td>05-DEC-1994</td>\n",
       "      <td>237004</td>\n",
       "      <td>05A   ARRESTEE - DURING ARREST</td>\n",
       "      <td>05B   ARRESTEE - DURING ARREST</td>\n",
       "      <td>21-MAY-1997</td>\n",
       "      <td>21-MAY-1997</td>\n",
       "      <td>25-MAY-1999</td>\n",
       "      <td>UN</td>\n",
       "      <td>600</td>\n",
       "      <td>NO ACTION TAKEN</td>\n",
       "    </tr>\n",
       "    <tr>\n",
       "      <th>1</th>\n",
       "      <td>ABBATE, ANTHONY G</td>\n",
       "      <td>011</td>\n",
       "      <td>05-DEC-1994</td>\n",
       "      <td>258124</td>\n",
       "      <td>04E   PRISONERS PROPERTY - INVENTORY/RECEIPT</td>\n",
       "      <td>04E   PRISONERS PROPERTY - INVENTORY/RECEIPT</td>\n",
       "      <td>19-NOV-1999</td>\n",
       "      <td>20-NOV-1999</td>\n",
       "      <td>07-DEC-2000</td>\n",
       "      <td>NS</td>\n",
       "      <td>600</td>\n",
       "      <td>NO ACTION TAKEN</td>\n",
       "    </tr>\n",
       "    <tr>\n",
       "      <th>2</th>\n",
       "      <td>ABBATE, CARMEL G</td>\n",
       "      <td>641</td>\n",
       "      <td>06-JAN-1969</td>\n",
       "      <td>190369</td>\n",
       "      <td>03G   MISCELLANEOUS</td>\n",
       "      <td>03G   MISCELLANEOUS</td>\n",
       "      <td>11-FEB-1992</td>\n",
       "      <td>11-FEB-1992</td>\n",
       "      <td>09-APR-1992</td>\n",
       "      <td>UN</td>\n",
       "      <td>600</td>\n",
       "      <td>NO ACTION TAKEN</td>\n",
       "    </tr>\n",
       "    <tr>\n",
       "      <th>3</th>\n",
       "      <td>ABBATE, CARMEL G</td>\n",
       "      <td>640</td>\n",
       "      <td>06-JAN-1969</td>\n",
       "      <td>210426</td>\n",
       "      <td>10V   INVENTORY PROCEDURES</td>\n",
       "      <td>04E   INVENTORY PROCEDURES</td>\n",
       "      <td>30-JUL-1994</td>\n",
       "      <td>14-JUL-1994</td>\n",
       "      <td>01-DEC-1994</td>\n",
       "      <td>NS</td>\n",
       "      <td>600</td>\n",
       "      <td>NO ACTION TAKEN</td>\n",
       "    </tr>\n",
       "    <tr>\n",
       "      <th>4</th>\n",
       "      <td>ABBATE, CARMEL G</td>\n",
       "      <td>640</td>\n",
       "      <td>06-JAN-1969</td>\n",
       "      <td>219424</td>\n",
       "      <td>09J   MISCELLANEOUS</td>\n",
       "      <td>05A   MISCELLANEOUS</td>\n",
       "      <td>12-JUL-1995</td>\n",
       "      <td>19-JUL-1995</td>\n",
       "      <td>23-JAN-1996</td>\n",
       "      <td>NS</td>\n",
       "      <td>600</td>\n",
       "      <td>NO ACTION TAKEN</td>\n",
       "    </tr>\n",
       "  </tbody>\n",
       "</table>\n",
       "</div>"
      ],
      "text/plain": [
       "                NAME UNIT DATE_OF_APPOINTMENT   CR_NO  \\\n",
       "0  ABBATE, ANTHONY G  011         05-DEC-1994  237004   \n",
       "1  ABBATE, ANTHONY G  011         05-DEC-1994  258124   \n",
       "2   ABBATE, CARMEL G  641         06-JAN-1969  190369   \n",
       "3   ABBATE, CARMEL G  640         06-JAN-1969  210426   \n",
       "4   ABBATE, CARMEL G  640         06-JAN-1969  219424   \n",
       "\n",
       "                     INITIAL_COMPLAINT_CATEGORY  \\\n",
       "0                05A   ARRESTEE - DURING ARREST   \n",
       "1  04E   PRISONERS PROPERTY - INVENTORY/RECEIPT   \n",
       "2                           03G   MISCELLANEOUS   \n",
       "3                    10V   INVENTORY PROCEDURES   \n",
       "4                           09J   MISCELLANEOUS   \n",
       "\n",
       "                       FINAL_COMPLAINT_CATEGORY INCIDENT_DATE COMPLAINT_DATE  \\\n",
       "0                05B   ARRESTEE - DURING ARREST   21-MAY-1997    21-MAY-1997   \n",
       "1  04E   PRISONERS PROPERTY - INVENTORY/RECEIPT   19-NOV-1999    20-NOV-1999   \n",
       "2                           03G   MISCELLANEOUS   11-FEB-1992    11-FEB-1992   \n",
       "3                    04E   INVENTORY PROCEDURES   30-JUL-1994    14-JUL-1994   \n",
       "4                           05A   MISCELLANEOUS   12-JUL-1995    19-JUL-1995   \n",
       "\n",
       "   CLOSED_DATE FINAL_FINDING  ACTION_TAKEN     ACTION_DESCR  \n",
       "0  25-MAY-1999            UN           600  NO ACTION TAKEN  \n",
       "1  07-DEC-2000            NS           600  NO ACTION TAKEN  \n",
       "2  09-APR-1992            UN           600  NO ACTION TAKEN  \n",
       "3  01-DEC-1994            NS           600  NO ACTION TAKEN  \n",
       "4  23-JAN-1996            NS           600  NO ACTION TAKEN  "
      ]
     },
     "execution_count": 3,
     "metadata": {},
     "output_type": "execute_result"
    }
   ],
   "source": [
    "complaint_df.head()"
   ]
  },
  {
   "cell_type": "code",
   "execution_count": 8,
   "metadata": {
    "collapsed": false
   },
   "outputs": [
    {
     "data": {
      "text/plain": [
       "NAME\n",
       "ABBATE, ANTHONY G    2\n",
       "ABBATE, CARMEL G     6\n",
       "ABBATE, CARMEN S     4\n",
       "ABBATE, TERRY M      3\n",
       "ABBEY, MICHAEL J     3\n",
       "Name: NAME, dtype: int64"
      ]
     },
     "execution_count": 8,
     "metadata": {},
     "output_type": "execute_result"
    }
   ],
   "source": [
    "officers_by_complaints = complaint_df.groupby(['NAME'])['NAME'].count()\n",
    "officers_by_complaints.head()"
   ]
  },
  {
   "cell_type": "code",
   "execution_count": 7,
   "metadata": {
    "collapsed": false
   },
   "outputs": [
    {
     "data": {
      "text/plain": [
       "<matplotlib.axes._subplots.AxesSubplot at 0x109c77e10>"
      ]
     },
     "execution_count": 7,
     "metadata": {},
     "output_type": "execute_result"
    },
    {
     "data": {
      "image/png": "[encoded data removed]",
      "text/plain": [
       "<matplotlib.figure.Figure at 0x109a5c9e8>"
      ]
     },
     "metadata": {},
     "output_type": "display_data"
    }
   ],
   "source": [
    "most_complaints = officers_by_complaints.sort_values(ascending=False)[:15]\n",
    "most_complaints.plot(kind='bar')"
   ]
  },
  {
   "cell_type": "code",
   "execution_count": null,
   "metadata": {
    "collapsed": true
   },
   "outputs": [],
   "source": []
  }
 ],
 "metadata": {
  "kernelspec": {
   "display_name": "Python 3",
   "language": "python",
   "name": "python3"
  },
  "language_info": {
   "codemirror_mode": {
    "name": "ipython",
    "version": 3
   },
   "file_extension": ".py",
   "mimetype": "text/x-python",
   "name": "python",
   "nbconvert_exporter": "python",
   "pygments_lexer": "ipython3",
   "version": "3.5.2"
  }
 },
 "nbformat": 4,
 "nbformat_minor": 1
}
