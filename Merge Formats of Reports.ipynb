{
 "cells": [
  {
   "cell_type": "code",
   "execution_count": 1,
   "metadata": {
    "collapsed": true
   },
   "outputs": [],
   "source": [
    "from __future__ import absolute_import, division, print_function, unicode_literals\n",
    "\n",
    "import numpy as np\n",
    "import pandas as pd\n",
    "import matplotlib.pyplot as plt\n",
    "import seaborn as sns\n",
    "import re\n",
    "%matplotlib inline"
   ]
  },
  {
   "cell_type": "code",
   "execution_count": 2,
   "metadata": {
    "collapsed": false
   },
   "outputs": [
    {
     "name": "stdout",
     "output_type": "stream",
     "text": [
      "<class 'pandas.core.frame.DataFrame'>\n",
      "RangeIndex: 117914 entries, 0 to 117913\n",
      "Data columns (total 15 columns):\n",
      "action                        113681 non-null object\n",
      "appt_date                     117914 non-null object\n",
      "closed_date                   117785 non-null object\n",
      "complaint_date                117914 non-null object\n",
      "cr_no                         117914 non-null object\n",
      "final_category_code           117914 non-null object\n",
      "final_complaint_category      117914 non-null object\n",
      "finding                       83286 non-null object\n",
      "incident_date                 117914 non-null object\n",
      "initial_category_code         117914 non-null object\n",
      "initial_complaint_category    117914 non-null object\n",
      "key                           117914 non-null int64\n",
      "location                      117914 non-null int64\n",
      "officer_name                  117914 non-null object\n",
      "page                          117914 non-null int64\n",
      "dtypes: int64(3), object(12)\n",
      "memory usage: 13.5+ MB\n"
     ]
    }
   ],
   "source": [
    "pdf_complaint_df = pd.read_csv('data/officer_complaints_from_pdf.csv')\n",
    "pdf_complaint_df.info(verbose=True)"
   ]
  },
  {
   "cell_type": "code",
   "execution_count": 3,
   "metadata": {
    "collapsed": false
   },
   "outputs": [
    {
     "name": "stdout",
     "output_type": "stream",
     "text": [
      "<class 'pandas.core.frame.DataFrame'>\n",
      "RangeIndex: 134683 entries, 0 to 134682\n",
      "Data columns (total 12 columns):\n",
      "NAME                          134683 non-null object\n",
      "UNIT                          134528 non-null object\n",
      "DATE_OF_APPOINTMENT           134486 non-null object\n",
      "CR_NO                         134683 non-null int64\n",
      "INITIAL_COMPLAINT_CATEGORY    134683 non-null object\n",
      "FINAL_COMPLAINT_CATEGORY      134683 non-null object\n",
      "INCIDENT_DATE                 134462 non-null object\n",
      "COMPLAINT_DATE                134683 non-null object\n",
      "CLOSED_DATE                   133294 non-null object\n",
      "FINAL_FINDING                 134683 non-null object\n",
      "ACTION_TAKEN                  134683 non-null int64\n",
      "ACTION_DESCR                  134683 non-null object\n",
      "dtypes: int64(2), object(10)\n",
      "memory usage: 12.3+ MB\n"
     ]
    }
   ],
   "source": [
    "complaint_df = pd.read_excel('data/CR_AllRecords.xlsx')\n",
    "complaint_df.info(verbose=True)"
   ]
  },
  {
   "cell_type": "code",
   "execution_count": 4,
   "metadata": {
    "collapsed": false
   },
   "outputs": [
    {
     "data": {
      "text/html": [
       "<div>\n",
       "<table border=\"1\" class=\"dataframe\">\n",
       "  <thead>\n",
       "    <tr style=\"text-align: right;\">\n",
       "      <th></th>\n",
       "      <th>action</th>\n",
       "      <th>appt_date</th>\n",
       "      <th>closed_date</th>\n",
       "      <th>complaint_date</th>\n",
       "      <th>cr_no</th>\n",
       "      <th>final_category_code</th>\n",
       "      <th>final_complaint_category</th>\n",
       "      <th>finding</th>\n",
       "      <th>incident_date</th>\n",
       "      <th>initial_category_code</th>\n",
       "      <th>initial_complaint_category</th>\n",
       "      <th>key</th>\n",
       "      <th>location</th>\n",
       "      <th>officer_name</th>\n",
       "      <th>page</th>\n",
       "    </tr>\n",
       "  </thead>\n",
       "  <tbody>\n",
       "    <tr>\n",
       "      <th>0</th>\n",
       "      <td>600-No Action Taken</td>\n",
       "      <td>08-Jun-1998</td>\n",
       "      <td>05-Jan-2001</td>\n",
       "      <td>22 Jun 2000</td>\n",
       "      <td>263295</td>\n",
       "      <td>05A</td>\n",
       "      <td>ARRESTEE - DURING ARREST</td>\n",
       "      <td>NS</td>\n",
       "      <td>21 Jun 2000</td>\n",
       "      <td>05A</td>\n",
       "      <td>ARRESTEE - DURING ARREST</td>\n",
       "      <td>1273</td>\n",
       "      <td>273</td>\n",
       "      <td>PIWNICKI, RAYMOND</td>\n",
       "      <td>1</td>\n",
       "    </tr>\n",
       "    <tr>\n",
       "      <th>1</th>\n",
       "      <td>100-Reprimand</td>\n",
       "      <td>08-Jun-1998</td>\n",
       "      <td>05-Oct-2001</td>\n",
       "      <td>15 Jul 2000</td>\n",
       "      <td>263967</td>\n",
       "      <td>10M</td>\n",
       "      <td>INSUBORDINATION</td>\n",
       "      <td>SU</td>\n",
       "      <td>15 Jul 2000</td>\n",
       "      <td>10M</td>\n",
       "      <td>INSUBORDINATION</td>\n",
       "      <td>1314</td>\n",
       "      <td>314</td>\n",
       "      <td>PIWNICKI, RAYMOND</td>\n",
       "      <td>1</td>\n",
       "    </tr>\n",
       "    <tr>\n",
       "      <th>2</th>\n",
       "      <td>600-No Action Taken</td>\n",
       "      <td>08-Jun-1998</td>\n",
       "      <td>20-Jan-2001</td>\n",
       "      <td>24 Aug 2000</td>\n",
       "      <td>265117</td>\n",
       "      <td>05A</td>\n",
       "      <td>ARRESTEE - DURING ARREST</td>\n",
       "      <td>NS</td>\n",
       "      <td>24 Aug 2000</td>\n",
       "      <td>05A</td>\n",
       "      <td>ARRESTEE - DURING ARREST</td>\n",
       "      <td>1356</td>\n",
       "      <td>356</td>\n",
       "      <td>PIWNICKI, RAYMOND</td>\n",
       "      <td>1</td>\n",
       "    </tr>\n",
       "    <tr>\n",
       "      <th>3</th>\n",
       "      <td>600-No Action Taken</td>\n",
       "      <td>08-Jun-1998</td>\n",
       "      <td>21-May-2001</td>\n",
       "      <td>24 Oct 2000</td>\n",
       "      <td>266694</td>\n",
       "      <td>05N</td>\n",
       "      <td>WEAPON - UNNECESSARY DISPLAY OF</td>\n",
       "      <td>NS</td>\n",
       "      <td>13 Aug 2000</td>\n",
       "      <td>05N</td>\n",
       "      <td>WEAPON - UNNECESSARY DISPLAY OF</td>\n",
       "      <td>1398</td>\n",
       "      <td>398</td>\n",
       "      <td>PIWNICKI, RAYMOND</td>\n",
       "      <td>1</td>\n",
       "    </tr>\n",
       "    <tr>\n",
       "      <th>4</th>\n",
       "      <td>600-No Action Taken</td>\n",
       "      <td>08-Jun-1998</td>\n",
       "      <td>24-Oct-2001</td>\n",
       "      <td>03 Nov 2000</td>\n",
       "      <td>266986</td>\n",
       "      <td>05A</td>\n",
       "      <td>ARRESTEE - DURING ARREST</td>\n",
       "      <td>UN</td>\n",
       "      <td>02 Nov 2000</td>\n",
       "      <td>05A</td>\n",
       "      <td>ARRESTEE - DURING ARREST</td>\n",
       "      <td>1440</td>\n",
       "      <td>440</td>\n",
       "      <td>PIWNICKI, RAYMOND</td>\n",
       "      <td>1</td>\n",
       "    </tr>\n",
       "  </tbody>\n",
       "</table>\n",
       "</div>"
      ],
      "text/plain": [
       "                action    appt_date  closed_date complaint_date   cr_no  \\\n",
       "0  600-No Action Taken  08-Jun-1998  05-Jan-2001    22 Jun 2000  263295   \n",
       "1        100-Reprimand  08-Jun-1998  05-Oct-2001    15 Jul 2000  263967   \n",
       "2  600-No Action Taken  08-Jun-1998  20-Jan-2001    24 Aug 2000  265117   \n",
       "3  600-No Action Taken  08-Jun-1998  21-May-2001    24 Oct 2000  266694   \n",
       "4  600-No Action Taken  08-Jun-1998  24-Oct-2001    03 Nov 2000  266986   \n",
       "\n",
       "  final_category_code         final_complaint_category finding incident_date  \\\n",
       "0                 05A         ARRESTEE - DURING ARREST      NS   21 Jun 2000   \n",
       "1                 10M                  INSUBORDINATION      SU   15 Jul 2000   \n",
       "2                 05A         ARRESTEE - DURING ARREST      NS   24 Aug 2000   \n",
       "3                 05N  WEAPON - UNNECESSARY DISPLAY OF      NS   13 Aug 2000   \n",
       "4                 05A         ARRESTEE - DURING ARREST      UN   02 Nov 2000   \n",
       "\n",
       "  initial_category_code       initial_complaint_category   key  location  \\\n",
       "0                   05A         ARRESTEE - DURING ARREST  1273       273   \n",
       "1                   10M                  INSUBORDINATION  1314       314   \n",
       "2                   05A         ARRESTEE - DURING ARREST  1356       356   \n",
       "3                   05N  WEAPON - UNNECESSARY DISPLAY OF  1398       398   \n",
       "4                   05A         ARRESTEE - DURING ARREST  1440       440   \n",
       "\n",
       "        officer_name  page  \n",
       "0  PIWNICKI, RAYMOND     1  \n",
       "1  PIWNICKI, RAYMOND     1  \n",
       "2  PIWNICKI, RAYMOND     1  \n",
       "3  PIWNICKI, RAYMOND     1  \n",
       "4  PIWNICKI, RAYMOND     1  "
      ]
     },
     "execution_count": 4,
     "metadata": {},
     "output_type": "execute_result"
    }
   ],
   "source": [
    "pdf_complaint_df.head()"
   ]
  },
  {
   "cell_type": "code",
   "execution_count": 5,
   "metadata": {
    "collapsed": false
   },
   "outputs": [
    {
     "data": {
      "text/html": [
       "<div>\n",
       "<table border=\"1\" class=\"dataframe\">\n",
       "  <thead>\n",
       "    <tr style=\"text-align: right;\">\n",
       "      <th></th>\n",
       "      <th>NAME</th>\n",
       "      <th>UNIT</th>\n",
       "      <th>DATE_OF_APPOINTMENT</th>\n",
       "      <th>CR_NO</th>\n",
       "      <th>INITIAL_COMPLAINT_CATEGORY</th>\n",
       "      <th>FINAL_COMPLAINT_CATEGORY</th>\n",
       "      <th>INCIDENT_DATE</th>\n",
       "      <th>COMPLAINT_DATE</th>\n",
       "      <th>CLOSED_DATE</th>\n",
       "      <th>FINAL_FINDING</th>\n",
       "      <th>ACTION_TAKEN</th>\n",
       "      <th>ACTION_DESCR</th>\n",
       "    </tr>\n",
       "  </thead>\n",
       "  <tbody>\n",
       "    <tr>\n",
       "      <th>0</th>\n",
       "      <td>ABBATE, ANTHONY G</td>\n",
       "      <td>011</td>\n",
       "      <td>05-DEC-1994</td>\n",
       "      <td>237004</td>\n",
       "      <td>05A   ARRESTEE - DURING ARREST</td>\n",
       "      <td>05B   ARRESTEE - DURING ARREST</td>\n",
       "      <td>21-MAY-1997</td>\n",
       "      <td>21-MAY-1997</td>\n",
       "      <td>25-MAY-1999</td>\n",
       "      <td>UN</td>\n",
       "      <td>600</td>\n",
       "      <td>NO ACTION TAKEN</td>\n",
       "    </tr>\n",
       "    <tr>\n",
       "      <th>1</th>\n",
       "      <td>ABBATE, ANTHONY G</td>\n",
       "      <td>011</td>\n",
       "      <td>05-DEC-1994</td>\n",
       "      <td>258124</td>\n",
       "      <td>04E   PRISONERS PROPERTY - INVENTORY/RECEIPT</td>\n",
       "      <td>04E   PRISONERS PROPERTY - INVENTORY/RECEIPT</td>\n",
       "      <td>19-NOV-1999</td>\n",
       "      <td>20-NOV-1999</td>\n",
       "      <td>07-DEC-2000</td>\n",
       "      <td>NS</td>\n",
       "      <td>600</td>\n",
       "      <td>NO ACTION TAKEN</td>\n",
       "    </tr>\n",
       "    <tr>\n",
       "      <th>2</th>\n",
       "      <td>ABBATE, CARMEL G</td>\n",
       "      <td>641</td>\n",
       "      <td>06-JAN-1969</td>\n",
       "      <td>190369</td>\n",
       "      <td>03G   MISCELLANEOUS</td>\n",
       "      <td>03G   MISCELLANEOUS</td>\n",
       "      <td>11-FEB-1992</td>\n",
       "      <td>11-FEB-1992</td>\n",
       "      <td>09-APR-1992</td>\n",
       "      <td>UN</td>\n",
       "      <td>600</td>\n",
       "      <td>NO ACTION TAKEN</td>\n",
       "    </tr>\n",
       "    <tr>\n",
       "      <th>3</th>\n",
       "      <td>ABBATE, CARMEL G</td>\n",
       "      <td>640</td>\n",
       "      <td>06-JAN-1969</td>\n",
       "      <td>210426</td>\n",
       "      <td>10V   INVENTORY PROCEDURES</td>\n",
       "      <td>04E   INVENTORY PROCEDURES</td>\n",
       "      <td>30-JUL-1994</td>\n",
       "      <td>14-JUL-1994</td>\n",
       "      <td>01-DEC-1994</td>\n",
       "      <td>NS</td>\n",
       "      <td>600</td>\n",
       "      <td>NO ACTION TAKEN</td>\n",
       "    </tr>\n",
       "    <tr>\n",
       "      <th>4</th>\n",
       "      <td>ABBATE, CARMEL G</td>\n",
       "      <td>640</td>\n",
       "      <td>06-JAN-1969</td>\n",
       "      <td>219424</td>\n",
       "      <td>09J   MISCELLANEOUS</td>\n",
       "      <td>05A   MISCELLANEOUS</td>\n",
       "      <td>12-JUL-1995</td>\n",
       "      <td>19-JUL-1995</td>\n",
       "      <td>23-JAN-1996</td>\n",
       "      <td>NS</td>\n",
       "      <td>600</td>\n",
       "      <td>NO ACTION TAKEN</td>\n",
       "    </tr>\n",
       "  </tbody>\n",
       "</table>\n",
       "</div>"
      ],
      "text/plain": [
       "                NAME UNIT DATE_OF_APPOINTMENT   CR_NO  \\\n",
       "0  ABBATE, ANTHONY G  011         05-DEC-1994  237004   \n",
       "1  ABBATE, ANTHONY G  011         05-DEC-1994  258124   \n",
       "2   ABBATE, CARMEL G  641         06-JAN-1969  190369   \n",
       "3   ABBATE, CARMEL G  640         06-JAN-1969  210426   \n",
       "4   ABBATE, CARMEL G  640         06-JAN-1969  219424   \n",
       "\n",
       "                     INITIAL_COMPLAINT_CATEGORY  \\\n",
       "0                05A   ARRESTEE - DURING ARREST   \n",
       "1  04E   PRISONERS PROPERTY - INVENTORY/RECEIPT   \n",
       "2                           03G   MISCELLANEOUS   \n",
       "3                    10V   INVENTORY PROCEDURES   \n",
       "4                           09J   MISCELLANEOUS   \n",
       "\n",
       "                       FINAL_COMPLAINT_CATEGORY INCIDENT_DATE COMPLAINT_DATE  \\\n",
       "0                05B   ARRESTEE - DURING ARREST   21-MAY-1997    21-MAY-1997   \n",
       "1  04E   PRISONERS PROPERTY - INVENTORY/RECEIPT   19-NOV-1999    20-NOV-1999   \n",
       "2                           03G   MISCELLANEOUS   11-FEB-1992    11-FEB-1992   \n",
       "3                    04E   INVENTORY PROCEDURES   30-JUL-1994    14-JUL-1994   \n",
       "4                           05A   MISCELLANEOUS   12-JUL-1995    19-JUL-1995   \n",
       "\n",
       "   CLOSED_DATE FINAL_FINDING  ACTION_TAKEN     ACTION_DESCR  \n",
       "0  25-MAY-1999            UN           600  NO ACTION TAKEN  \n",
       "1  07-DEC-2000            NS           600  NO ACTION TAKEN  \n",
       "2  09-APR-1992            UN           600  NO ACTION TAKEN  \n",
       "3  01-DEC-1994            NS           600  NO ACTION TAKEN  \n",
       "4  23-JAN-1996            NS           600  NO ACTION TAKEN  "
      ]
     },
     "execution_count": 5,
     "metadata": {},
     "output_type": "execute_result"
    }
   ],
   "source": [
    "complaint_df.head()"
   ]
  },
  {
   "cell_type": "code",
   "execution_count": 6,
   "metadata": {
    "collapsed": false
   },
   "outputs": [
    {
     "data": {
      "text/html": [
       "<div>\n",
       "<table border=\"1\" class=\"dataframe\">\n",
       "  <thead>\n",
       "    <tr style=\"text-align: right;\">\n",
       "      <th></th>\n",
       "      <th>action</th>\n",
       "      <th>appt_date</th>\n",
       "      <th>closed_date</th>\n",
       "      <th>complaint_date</th>\n",
       "      <th>cr_no</th>\n",
       "      <th>final_category_code</th>\n",
       "      <th>final_complaint_category</th>\n",
       "      <th>finding</th>\n",
       "      <th>incident_date</th>\n",
       "      <th>initial_category_code</th>\n",
       "      <th>initial_complaint_category</th>\n",
       "      <th>key</th>\n",
       "      <th>location</th>\n",
       "      <th>officer_name</th>\n",
       "      <th>page</th>\n",
       "    </tr>\n",
       "  </thead>\n",
       "  <tbody>\n",
       "    <tr>\n",
       "      <th>0</th>\n",
       "      <td>600-No Action Taken</td>\n",
       "      <td>08-JUN-1998</td>\n",
       "      <td>05-Jan-2001</td>\n",
       "      <td>22 Jun 2000</td>\n",
       "      <td>263295</td>\n",
       "      <td>05A</td>\n",
       "      <td>ARRESTEE - DURING ARREST</td>\n",
       "      <td>NS</td>\n",
       "      <td>21 Jun 2000</td>\n",
       "      <td>05A</td>\n",
       "      <td>ARRESTEE - DURING ARREST</td>\n",
       "      <td>1273</td>\n",
       "      <td>273</td>\n",
       "      <td>PIWNICKI, RAYMOND</td>\n",
       "      <td>1</td>\n",
       "    </tr>\n",
       "    <tr>\n",
       "      <th>1</th>\n",
       "      <td>100-Reprimand</td>\n",
       "      <td>08-JUN-1998</td>\n",
       "      <td>05-Oct-2001</td>\n",
       "      <td>15 Jul 2000</td>\n",
       "      <td>263967</td>\n",
       "      <td>10M</td>\n",
       "      <td>INSUBORDINATION</td>\n",
       "      <td>SU</td>\n",
       "      <td>15 Jul 2000</td>\n",
       "      <td>10M</td>\n",
       "      <td>INSUBORDINATION</td>\n",
       "      <td>1314</td>\n",
       "      <td>314</td>\n",
       "      <td>PIWNICKI, RAYMOND</td>\n",
       "      <td>1</td>\n",
       "    </tr>\n",
       "    <tr>\n",
       "      <th>2</th>\n",
       "      <td>600-No Action Taken</td>\n",
       "      <td>08-JUN-1998</td>\n",
       "      <td>20-Jan-2001</td>\n",
       "      <td>24 Aug 2000</td>\n",
       "      <td>265117</td>\n",
       "      <td>05A</td>\n",
       "      <td>ARRESTEE - DURING ARREST</td>\n",
       "      <td>NS</td>\n",
       "      <td>24 Aug 2000</td>\n",
       "      <td>05A</td>\n",
       "      <td>ARRESTEE - DURING ARREST</td>\n",
       "      <td>1356</td>\n",
       "      <td>356</td>\n",
       "      <td>PIWNICKI, RAYMOND</td>\n",
       "      <td>1</td>\n",
       "    </tr>\n",
       "    <tr>\n",
       "      <th>3</th>\n",
       "      <td>600-No Action Taken</td>\n",
       "      <td>08-JUN-1998</td>\n",
       "      <td>21-May-2001</td>\n",
       "      <td>24 Oct 2000</td>\n",
       "      <td>266694</td>\n",
       "      <td>05N</td>\n",
       "      <td>WEAPON - UNNECESSARY DISPLAY OF</td>\n",
       "      <td>NS</td>\n",
       "      <td>13 Aug 2000</td>\n",
       "      <td>05N</td>\n",
       "      <td>WEAPON - UNNECESSARY DISPLAY OF</td>\n",
       "      <td>1398</td>\n",
       "      <td>398</td>\n",
       "      <td>PIWNICKI, RAYMOND</td>\n",
       "      <td>1</td>\n",
       "    </tr>\n",
       "    <tr>\n",
       "      <th>4</th>\n",
       "      <td>600-No Action Taken</td>\n",
       "      <td>08-JUN-1998</td>\n",
       "      <td>24-Oct-2001</td>\n",
       "      <td>03 Nov 2000</td>\n",
       "      <td>266986</td>\n",
       "      <td>05A</td>\n",
       "      <td>ARRESTEE - DURING ARREST</td>\n",
       "      <td>UN</td>\n",
       "      <td>02 Nov 2000</td>\n",
       "      <td>05A</td>\n",
       "      <td>ARRESTEE - DURING ARREST</td>\n",
       "      <td>1440</td>\n",
       "      <td>440</td>\n",
       "      <td>PIWNICKI, RAYMOND</td>\n",
       "      <td>1</td>\n",
       "    </tr>\n",
       "  </tbody>\n",
       "</table>\n",
       "</div>"
      ],
      "text/plain": [
       "                action    appt_date  closed_date complaint_date   cr_no  \\\n",
       "0  600-No Action Taken  08-JUN-1998  05-Jan-2001    22 Jun 2000  263295   \n",
       "1        100-Reprimand  08-JUN-1998  05-Oct-2001    15 Jul 2000  263967   \n",
       "2  600-No Action Taken  08-JUN-1998  20-Jan-2001    24 Aug 2000  265117   \n",
       "3  600-No Action Taken  08-JUN-1998  21-May-2001    24 Oct 2000  266694   \n",
       "4  600-No Action Taken  08-JUN-1998  24-Oct-2001    03 Nov 2000  266986   \n",
       "\n",
       "  final_category_code         final_complaint_category finding incident_date  \\\n",
       "0                 05A         ARRESTEE - DURING ARREST      NS   21 Jun 2000   \n",
       "1                 10M                  INSUBORDINATION      SU   15 Jul 2000   \n",
       "2                 05A         ARRESTEE - DURING ARREST      NS   24 Aug 2000   \n",
       "3                 05N  WEAPON - UNNECESSARY DISPLAY OF      NS   13 Aug 2000   \n",
       "4                 05A         ARRESTEE - DURING ARREST      UN   02 Nov 2000   \n",
       "\n",
       "  initial_category_code       initial_complaint_category   key  location  \\\n",
       "0                   05A         ARRESTEE - DURING ARREST  1273       273   \n",
       "1                   10M                  INSUBORDINATION  1314       314   \n",
       "2                   05A         ARRESTEE - DURING ARREST  1356       356   \n",
       "3                   05N  WEAPON - UNNECESSARY DISPLAY OF  1398       398   \n",
       "4                   05A         ARRESTEE - DURING ARREST  1440       440   \n",
       "\n",
       "        officer_name  page  \n",
       "0  PIWNICKI, RAYMOND     1  \n",
       "1  PIWNICKI, RAYMOND     1  \n",
       "2  PIWNICKI, RAYMOND     1  \n",
       "3  PIWNICKI, RAYMOND     1  \n",
       "4  PIWNICKI, RAYMOND     1  "
      ]
     },
     "execution_count": 6,
     "metadata": {},
     "output_type": "execute_result"
    }
   ],
   "source": [
    "# First converting all dates to uppercase with dashes\n",
    "pdf_complaint_df['appt_date'] = pdf_complaint_df['appt_date'].str.upper()\n",
    "pdf_complaint_df.head()"
   ]
  },
  {
   "cell_type": "code",
   "execution_count": 7,
   "metadata": {
    "collapsed": false
   },
   "outputs": [
    {
     "data": {
      "text/html": [
       "<div>\n",
       "<table border=\"1\" class=\"dataframe\">\n",
       "  <thead>\n",
       "    <tr style=\"text-align: right;\">\n",
       "      <th></th>\n",
       "      <th>action</th>\n",
       "      <th>appt_date</th>\n",
       "      <th>closed_date</th>\n",
       "      <th>complaint_date</th>\n",
       "      <th>cr_no</th>\n",
       "      <th>final_category_code</th>\n",
       "      <th>final_complaint_category</th>\n",
       "      <th>finding</th>\n",
       "      <th>incident_date</th>\n",
       "      <th>initial_category_code</th>\n",
       "      <th>initial_complaint_category</th>\n",
       "      <th>key</th>\n",
       "      <th>location</th>\n",
       "      <th>officer_name</th>\n",
       "      <th>page</th>\n",
       "    </tr>\n",
       "  </thead>\n",
       "  <tbody>\n",
       "    <tr>\n",
       "      <th>0</th>\n",
       "      <td>600-No Action Taken</td>\n",
       "      <td>08-JUN-1998</td>\n",
       "      <td>05-JAN-2001</td>\n",
       "      <td>22-JUN-2000</td>\n",
       "      <td>263295</td>\n",
       "      <td>05A</td>\n",
       "      <td>ARRESTEE - DURING ARREST</td>\n",
       "      <td>NS</td>\n",
       "      <td>21-JUN-2000</td>\n",
       "      <td>05A</td>\n",
       "      <td>ARRESTEE - DURING ARREST</td>\n",
       "      <td>1273</td>\n",
       "      <td>273</td>\n",
       "      <td>PIWNICKI, RAYMOND</td>\n",
       "      <td>1</td>\n",
       "    </tr>\n",
       "    <tr>\n",
       "      <th>1</th>\n",
       "      <td>100-Reprimand</td>\n",
       "      <td>08-JUN-1998</td>\n",
       "      <td>05-OCT-2001</td>\n",
       "      <td>15-JUL-2000</td>\n",
       "      <td>263967</td>\n",
       "      <td>10M</td>\n",
       "      <td>INSUBORDINATION</td>\n",
       "      <td>SU</td>\n",
       "      <td>15-JUL-2000</td>\n",
       "      <td>10M</td>\n",
       "      <td>INSUBORDINATION</td>\n",
       "      <td>1314</td>\n",
       "      <td>314</td>\n",
       "      <td>PIWNICKI, RAYMOND</td>\n",
       "      <td>1</td>\n",
       "    </tr>\n",
       "    <tr>\n",
       "      <th>2</th>\n",
       "      <td>600-No Action Taken</td>\n",
       "      <td>08-JUN-1998</td>\n",
       "      <td>20-JAN-2001</td>\n",
       "      <td>24-AUG-2000</td>\n",
       "      <td>265117</td>\n",
       "      <td>05A</td>\n",
       "      <td>ARRESTEE - DURING ARREST</td>\n",
       "      <td>NS</td>\n",
       "      <td>24-AUG-2000</td>\n",
       "      <td>05A</td>\n",
       "      <td>ARRESTEE - DURING ARREST</td>\n",
       "      <td>1356</td>\n",
       "      <td>356</td>\n",
       "      <td>PIWNICKI, RAYMOND</td>\n",
       "      <td>1</td>\n",
       "    </tr>\n",
       "    <tr>\n",
       "      <th>3</th>\n",
       "      <td>600-No Action Taken</td>\n",
       "      <td>08-JUN-1998</td>\n",
       "      <td>21-MAY-2001</td>\n",
       "      <td>24-OCT-2000</td>\n",
       "      <td>266694</td>\n",
       "      <td>05N</td>\n",
       "      <td>WEAPON - UNNECESSARY DISPLAY OF</td>\n",
       "      <td>NS</td>\n",
       "      <td>13-AUG-2000</td>\n",
       "      <td>05N</td>\n",
       "      <td>WEAPON - UNNECESSARY DISPLAY OF</td>\n",
       "      <td>1398</td>\n",
       "      <td>398</td>\n",
       "      <td>PIWNICKI, RAYMOND</td>\n",
       "      <td>1</td>\n",
       "    </tr>\n",
       "    <tr>\n",
       "      <th>4</th>\n",
       "      <td>600-No Action Taken</td>\n",
       "      <td>08-JUN-1998</td>\n",
       "      <td>24-OCT-2001</td>\n",
       "      <td>03-NOV-2000</td>\n",
       "      <td>266986</td>\n",
       "      <td>05A</td>\n",
       "      <td>ARRESTEE - DURING ARREST</td>\n",
       "      <td>UN</td>\n",
       "      <td>02-NOV-2000</td>\n",
       "      <td>05A</td>\n",
       "      <td>ARRESTEE - DURING ARREST</td>\n",
       "      <td>1440</td>\n",
       "      <td>440</td>\n",
       "      <td>PIWNICKI, RAYMOND</td>\n",
       "      <td>1</td>\n",
       "    </tr>\n",
       "  </tbody>\n",
       "</table>\n",
       "</div>"
      ],
      "text/plain": [
       "                action    appt_date  closed_date complaint_date   cr_no  \\\n",
       "0  600-No Action Taken  08-JUN-1998  05-JAN-2001    22-JUN-2000  263295   \n",
       "1        100-Reprimand  08-JUN-1998  05-OCT-2001    15-JUL-2000  263967   \n",
       "2  600-No Action Taken  08-JUN-1998  20-JAN-2001    24-AUG-2000  265117   \n",
       "3  600-No Action Taken  08-JUN-1998  21-MAY-2001    24-OCT-2000  266694   \n",
       "4  600-No Action Taken  08-JUN-1998  24-OCT-2001    03-NOV-2000  266986   \n",
       "\n",
       "  final_category_code         final_complaint_category finding incident_date  \\\n",
       "0                 05A         ARRESTEE - DURING ARREST      NS   21-JUN-2000   \n",
       "1                 10M                  INSUBORDINATION      SU   15-JUL-2000   \n",
       "2                 05A         ARRESTEE - DURING ARREST      NS   24-AUG-2000   \n",
       "3                 05N  WEAPON - UNNECESSARY DISPLAY OF      NS   13-AUG-2000   \n",
       "4                 05A         ARRESTEE - DURING ARREST      UN   02-NOV-2000   \n",
       "\n",
       "  initial_category_code       initial_complaint_category   key  location  \\\n",
       "0                   05A         ARRESTEE - DURING ARREST  1273       273   \n",
       "1                   10M                  INSUBORDINATION  1314       314   \n",
       "2                   05A         ARRESTEE - DURING ARREST  1356       356   \n",
       "3                   05N  WEAPON - UNNECESSARY DISPLAY OF  1398       398   \n",
       "4                   05A         ARRESTEE - DURING ARREST  1440       440   \n",
       "\n",
       "        officer_name  page  \n",
       "0  PIWNICKI, RAYMOND     1  \n",
       "1  PIWNICKI, RAYMOND     1  \n",
       "2  PIWNICKI, RAYMOND     1  \n",
       "3  PIWNICKI, RAYMOND     1  \n",
       "4  PIWNICKI, RAYMOND     1  "
      ]
     },
     "execution_count": 7,
     "metadata": {},
     "output_type": "execute_result"
    }
   ],
   "source": [
    "pdf_complaint_df['complaint_date'] = pdf_complaint_df['complaint_date'].str.replace(' ', '-').str.upper()\n",
    "pdf_complaint_df['closed_date'] = pdf_complaint_df['closed_date'].str.replace(' ', '-').str.upper()\n",
    "pdf_complaint_df['incident_date'] = pdf_complaint_df['incident_date'].str.replace(' ', '-').str.upper()\n",
    "pdf_complaint_df.head()"
   ]
  },
  {
   "cell_type": "code",
   "execution_count": 8,
   "metadata": {
    "collapsed": true
   },
   "outputs": [],
   "source": [
    "pdf_complaint_df['action'] = pdf_complaint_df['action'].astype(str)"
   ]
  },
  {
   "cell_type": "code",
   "execution_count": 9,
   "metadata": {
    "collapsed": false
   },
   "outputs": [
    {
     "data": {
      "text/html": [
       "<div>\n",
       "<table border=\"1\" class=\"dataframe\">\n",
       "  <thead>\n",
       "    <tr style=\"text-align: right;\">\n",
       "      <th></th>\n",
       "      <th>action</th>\n",
       "      <th>appt_date</th>\n",
       "      <th>closed_date</th>\n",
       "      <th>complaint_date</th>\n",
       "      <th>cr_no</th>\n",
       "      <th>final_category_code</th>\n",
       "      <th>final_complaint_category</th>\n",
       "      <th>finding</th>\n",
       "      <th>incident_date</th>\n",
       "      <th>initial_category_code</th>\n",
       "      <th>initial_complaint_category</th>\n",
       "      <th>key</th>\n",
       "      <th>location</th>\n",
       "      <th>officer_name</th>\n",
       "      <th>page</th>\n",
       "      <th>ACTION_TAKEN</th>\n",
       "      <th>ACTION_DESCR</th>\n",
       "    </tr>\n",
       "  </thead>\n",
       "  <tbody>\n",
       "    <tr>\n",
       "      <th>0</th>\n",
       "      <td>600-No Action Taken</td>\n",
       "      <td>08-JUN-1998</td>\n",
       "      <td>05-JAN-2001</td>\n",
       "      <td>22-JUN-2000</td>\n",
       "      <td>263295</td>\n",
       "      <td>05A</td>\n",
       "      <td>ARRESTEE - DURING ARREST</td>\n",
       "      <td>NS</td>\n",
       "      <td>21-JUN-2000</td>\n",
       "      <td>05A</td>\n",
       "      <td>ARRESTEE - DURING ARREST</td>\n",
       "      <td>1273</td>\n",
       "      <td>273</td>\n",
       "      <td>PIWNICKI, RAYMOND</td>\n",
       "      <td>1</td>\n",
       "      <td>600</td>\n",
       "      <td>No Action Taken</td>\n",
       "    </tr>\n",
       "    <tr>\n",
       "      <th>1</th>\n",
       "      <td>100-Reprimand</td>\n",
       "      <td>08-JUN-1998</td>\n",
       "      <td>05-OCT-2001</td>\n",
       "      <td>15-JUL-2000</td>\n",
       "      <td>263967</td>\n",
       "      <td>10M</td>\n",
       "      <td>INSUBORDINATION</td>\n",
       "      <td>SU</td>\n",
       "      <td>15-JUL-2000</td>\n",
       "      <td>10M</td>\n",
       "      <td>INSUBORDINATION</td>\n",
       "      <td>1314</td>\n",
       "      <td>314</td>\n",
       "      <td>PIWNICKI, RAYMOND</td>\n",
       "      <td>1</td>\n",
       "      <td>100</td>\n",
       "      <td>Reprimand</td>\n",
       "    </tr>\n",
       "    <tr>\n",
       "      <th>2</th>\n",
       "      <td>600-No Action Taken</td>\n",
       "      <td>08-JUN-1998</td>\n",
       "      <td>20-JAN-2001</td>\n",
       "      <td>24-AUG-2000</td>\n",
       "      <td>265117</td>\n",
       "      <td>05A</td>\n",
       "      <td>ARRESTEE - DURING ARREST</td>\n",
       "      <td>NS</td>\n",
       "      <td>24-AUG-2000</td>\n",
       "      <td>05A</td>\n",
       "      <td>ARRESTEE - DURING ARREST</td>\n",
       "      <td>1356</td>\n",
       "      <td>356</td>\n",
       "      <td>PIWNICKI, RAYMOND</td>\n",
       "      <td>1</td>\n",
       "      <td>600</td>\n",
       "      <td>No Action Taken</td>\n",
       "    </tr>\n",
       "    <tr>\n",
       "      <th>3</th>\n",
       "      <td>600-No Action Taken</td>\n",
       "      <td>08-JUN-1998</td>\n",
       "      <td>21-MAY-2001</td>\n",
       "      <td>24-OCT-2000</td>\n",
       "      <td>266694</td>\n",
       "      <td>05N</td>\n",
       "      <td>WEAPON - UNNECESSARY DISPLAY OF</td>\n",
       "      <td>NS</td>\n",
       "      <td>13-AUG-2000</td>\n",
       "      <td>05N</td>\n",
       "      <td>WEAPON - UNNECESSARY DISPLAY OF</td>\n",
       "      <td>1398</td>\n",
       "      <td>398</td>\n",
       "      <td>PIWNICKI, RAYMOND</td>\n",
       "      <td>1</td>\n",
       "      <td>600</td>\n",
       "      <td>No Action Taken</td>\n",
       "    </tr>\n",
       "    <tr>\n",
       "      <th>4</th>\n",
       "      <td>600-No Action Taken</td>\n",
       "      <td>08-JUN-1998</td>\n",
       "      <td>24-OCT-2001</td>\n",
       "      <td>03-NOV-2000</td>\n",
       "      <td>266986</td>\n",
       "      <td>05A</td>\n",
       "      <td>ARRESTEE - DURING ARREST</td>\n",
       "      <td>UN</td>\n",
       "      <td>02-NOV-2000</td>\n",
       "      <td>05A</td>\n",
       "      <td>ARRESTEE - DURING ARREST</td>\n",
       "      <td>1440</td>\n",
       "      <td>440</td>\n",
       "      <td>PIWNICKI, RAYMOND</td>\n",
       "      <td>1</td>\n",
       "      <td>600</td>\n",
       "      <td>No Action Taken</td>\n",
       "    </tr>\n",
       "  </tbody>\n",
       "</table>\n",
       "</div>"
      ],
      "text/plain": [
       "                action    appt_date  closed_date complaint_date   cr_no  \\\n",
       "0  600-No Action Taken  08-JUN-1998  05-JAN-2001    22-JUN-2000  263295   \n",
       "1        100-Reprimand  08-JUN-1998  05-OCT-2001    15-JUL-2000  263967   \n",
       "2  600-No Action Taken  08-JUN-1998  20-JAN-2001    24-AUG-2000  265117   \n",
       "3  600-No Action Taken  08-JUN-1998  21-MAY-2001    24-OCT-2000  266694   \n",
       "4  600-No Action Taken  08-JUN-1998  24-OCT-2001    03-NOV-2000  266986   \n",
       "\n",
       "  final_category_code         final_complaint_category finding incident_date  \\\n",
       "0                 05A         ARRESTEE - DURING ARREST      NS   21-JUN-2000   \n",
       "1                 10M                  INSUBORDINATION      SU   15-JUL-2000   \n",
       "2                 05A         ARRESTEE - DURING ARREST      NS   24-AUG-2000   \n",
       "3                 05N  WEAPON - UNNECESSARY DISPLAY OF      NS   13-AUG-2000   \n",
       "4                 05A         ARRESTEE - DURING ARREST      UN   02-NOV-2000   \n",
       "\n",
       "  initial_category_code       initial_complaint_category   key  location  \\\n",
       "0                   05A         ARRESTEE - DURING ARREST  1273       273   \n",
       "1                   10M                  INSUBORDINATION  1314       314   \n",
       "2                   05A         ARRESTEE - DURING ARREST  1356       356   \n",
       "3                   05N  WEAPON - UNNECESSARY DISPLAY OF  1398       398   \n",
       "4                   05A         ARRESTEE - DURING ARREST  1440       440   \n",
       "\n",
       "        officer_name  page ACTION_TAKEN     ACTION_DESCR  \n",
       "0  PIWNICKI, RAYMOND     1          600  No Action Taken  \n",
       "1  PIWNICKI, RAYMOND     1          100        Reprimand  \n",
       "2  PIWNICKI, RAYMOND     1          600  No Action Taken  \n",
       "3  PIWNICKI, RAYMOND     1          600  No Action Taken  \n",
       "4  PIWNICKI, RAYMOND     1          600  No Action Taken  "
      ]
     },
     "execution_count": 9,
     "metadata": {},
     "output_type": "execute_result"
    }
   ],
   "source": [
    "pdf_complaint_df['ACTION_TAKEN'] = pdf_complaint_df['action'].apply(lambda x: x.split('-')[0] if '-' in x else '')\n",
    "pdf_complaint_df['ACTION_DESCR'] = pdf_complaint_df['action'].apply(lambda x: x.split('-')[1] if '-' in x else '')\n",
    "pdf_complaint_df.head()"
   ]
  },
  {
   "cell_type": "code",
   "execution_count": 10,
   "metadata": {
    "collapsed": false
   },
   "outputs": [
    {
     "data": {
      "text/html": [
       "<div>\n",
       "<table border=\"1\" class=\"dataframe\">\n",
       "  <thead>\n",
       "    <tr style=\"text-align: right;\">\n",
       "      <th></th>\n",
       "      <th>action</th>\n",
       "      <th>appt_date</th>\n",
       "      <th>closed_date</th>\n",
       "      <th>complaint_date</th>\n",
       "      <th>cr_no</th>\n",
       "      <th>final_category_code</th>\n",
       "      <th>final_complaint_category</th>\n",
       "      <th>finding</th>\n",
       "      <th>incident_date</th>\n",
       "      <th>initial_category_code</th>\n",
       "      <th>initial_complaint_category</th>\n",
       "      <th>key</th>\n",
       "      <th>location</th>\n",
       "      <th>officer_name</th>\n",
       "      <th>page</th>\n",
       "      <th>ACTION_TAKEN</th>\n",
       "      <th>ACTION_DESCR</th>\n",
       "      <th>INITIAL_COMPLAINT_CATEGORY</th>\n",
       "      <th>FINAL_COMPLAINT_CATEGORY</th>\n",
       "    </tr>\n",
       "  </thead>\n",
       "  <tbody>\n",
       "    <tr>\n",
       "      <th>0</th>\n",
       "      <td>600-No Action Taken</td>\n",
       "      <td>08-JUN-1998</td>\n",
       "      <td>05-JAN-2001</td>\n",
       "      <td>22-JUN-2000</td>\n",
       "      <td>263295</td>\n",
       "      <td>05A</td>\n",
       "      <td>ARRESTEE - DURING ARREST</td>\n",
       "      <td>NS</td>\n",
       "      <td>21-JUN-2000</td>\n",
       "      <td>05A</td>\n",
       "      <td>ARRESTEE - DURING ARREST</td>\n",
       "      <td>1273</td>\n",
       "      <td>273</td>\n",
       "      <td>PIWNICKI, RAYMOND</td>\n",
       "      <td>1</td>\n",
       "      <td>600</td>\n",
       "      <td>No Action Taken</td>\n",
       "      <td>05A ARRESTEE - DURING ARREST</td>\n",
       "      <td>05A ARRESTEE - DURING ARREST</td>\n",
       "    </tr>\n",
       "    <tr>\n",
       "      <th>1</th>\n",
       "      <td>100-Reprimand</td>\n",
       "      <td>08-JUN-1998</td>\n",
       "      <td>05-OCT-2001</td>\n",
       "      <td>15-JUL-2000</td>\n",
       "      <td>263967</td>\n",
       "      <td>10M</td>\n",
       "      <td>INSUBORDINATION</td>\n",
       "      <td>SU</td>\n",
       "      <td>15-JUL-2000</td>\n",
       "      <td>10M</td>\n",
       "      <td>INSUBORDINATION</td>\n",
       "      <td>1314</td>\n",
       "      <td>314</td>\n",
       "      <td>PIWNICKI, RAYMOND</td>\n",
       "      <td>1</td>\n",
       "      <td>100</td>\n",
       "      <td>Reprimand</td>\n",
       "      <td>10M INSUBORDINATION</td>\n",
       "      <td>10M INSUBORDINATION</td>\n",
       "    </tr>\n",
       "    <tr>\n",
       "      <th>2</th>\n",
       "      <td>600-No Action Taken</td>\n",
       "      <td>08-JUN-1998</td>\n",
       "      <td>20-JAN-2001</td>\n",
       "      <td>24-AUG-2000</td>\n",
       "      <td>265117</td>\n",
       "      <td>05A</td>\n",
       "      <td>ARRESTEE - DURING ARREST</td>\n",
       "      <td>NS</td>\n",
       "      <td>24-AUG-2000</td>\n",
       "      <td>05A</td>\n",
       "      <td>ARRESTEE - DURING ARREST</td>\n",
       "      <td>1356</td>\n",
       "      <td>356</td>\n",
       "      <td>PIWNICKI, RAYMOND</td>\n",
       "      <td>1</td>\n",
       "      <td>600</td>\n",
       "      <td>No Action Taken</td>\n",
       "      <td>05A ARRESTEE - DURING ARREST</td>\n",
       "      <td>05A ARRESTEE - DURING ARREST</td>\n",
       "    </tr>\n",
       "    <tr>\n",
       "      <th>3</th>\n",
       "      <td>600-No Action Taken</td>\n",
       "      <td>08-JUN-1998</td>\n",
       "      <td>21-MAY-2001</td>\n",
       "      <td>24-OCT-2000</td>\n",
       "      <td>266694</td>\n",
       "      <td>05N</td>\n",
       "      <td>WEAPON - UNNECESSARY DISPLAY OF</td>\n",
       "      <td>NS</td>\n",
       "      <td>13-AUG-2000</td>\n",
       "      <td>05N</td>\n",
       "      <td>WEAPON - UNNECESSARY DISPLAY OF</td>\n",
       "      <td>1398</td>\n",
       "      <td>398</td>\n",
       "      <td>PIWNICKI, RAYMOND</td>\n",
       "      <td>1</td>\n",
       "      <td>600</td>\n",
       "      <td>No Action Taken</td>\n",
       "      <td>05N WEAPON - UNNECESSARY DISPLAY OF</td>\n",
       "      <td>05N WEAPON - UNNECESSARY DISPLAY OF</td>\n",
       "    </tr>\n",
       "    <tr>\n",
       "      <th>4</th>\n",
       "      <td>600-No Action Taken</td>\n",
       "      <td>08-JUN-1998</td>\n",
       "      <td>24-OCT-2001</td>\n",
       "      <td>03-NOV-2000</td>\n",
       "      <td>266986</td>\n",
       "      <td>05A</td>\n",
       "      <td>ARRESTEE - DURING ARREST</td>\n",
       "      <td>UN</td>\n",
       "      <td>02-NOV-2000</td>\n",
       "      <td>05A</td>\n",
       "      <td>ARRESTEE - DURING ARREST</td>\n",
       "      <td>1440</td>\n",
       "      <td>440</td>\n",
       "      <td>PIWNICKI, RAYMOND</td>\n",
       "      <td>1</td>\n",
       "      <td>600</td>\n",
       "      <td>No Action Taken</td>\n",
       "      <td>05A ARRESTEE - DURING ARREST</td>\n",
       "      <td>05A ARRESTEE - DURING ARREST</td>\n",
       "    </tr>\n",
       "  </tbody>\n",
       "</table>\n",
       "</div>"
      ],
      "text/plain": [
       "                action    appt_date  closed_date complaint_date   cr_no  \\\n",
       "0  600-No Action Taken  08-JUN-1998  05-JAN-2001    22-JUN-2000  263295   \n",
       "1        100-Reprimand  08-JUN-1998  05-OCT-2001    15-JUL-2000  263967   \n",
       "2  600-No Action Taken  08-JUN-1998  20-JAN-2001    24-AUG-2000  265117   \n",
       "3  600-No Action Taken  08-JUN-1998  21-MAY-2001    24-OCT-2000  266694   \n",
       "4  600-No Action Taken  08-JUN-1998  24-OCT-2001    03-NOV-2000  266986   \n",
       "\n",
       "  final_category_code         final_complaint_category finding incident_date  \\\n",
       "0                 05A         ARRESTEE - DURING ARREST      NS   21-JUN-2000   \n",
       "1                 10M                  INSUBORDINATION      SU   15-JUL-2000   \n",
       "2                 05A         ARRESTEE - DURING ARREST      NS   24-AUG-2000   \n",
       "3                 05N  WEAPON - UNNECESSARY DISPLAY OF      NS   13-AUG-2000   \n",
       "4                 05A         ARRESTEE - DURING ARREST      UN   02-NOV-2000   \n",
       "\n",
       "  initial_category_code       initial_complaint_category   key  location  \\\n",
       "0                   05A         ARRESTEE - DURING ARREST  1273       273   \n",
       "1                   10M                  INSUBORDINATION  1314       314   \n",
       "2                   05A         ARRESTEE - DURING ARREST  1356       356   \n",
       "3                   05N  WEAPON - UNNECESSARY DISPLAY OF  1398       398   \n",
       "4                   05A         ARRESTEE - DURING ARREST  1440       440   \n",
       "\n",
       "        officer_name  page ACTION_TAKEN     ACTION_DESCR  \\\n",
       "0  PIWNICKI, RAYMOND     1          600  No Action Taken   \n",
       "1  PIWNICKI, RAYMOND     1          100        Reprimand   \n",
       "2  PIWNICKI, RAYMOND     1          600  No Action Taken   \n",
       "3  PIWNICKI, RAYMOND     1          600  No Action Taken   \n",
       "4  PIWNICKI, RAYMOND     1          600  No Action Taken   \n",
       "\n",
       "            INITIAL_COMPLAINT_CATEGORY             FINAL_COMPLAINT_CATEGORY  \n",
       "0         05A ARRESTEE - DURING ARREST         05A ARRESTEE - DURING ARREST  \n",
       "1                  10M INSUBORDINATION                  10M INSUBORDINATION  \n",
       "2         05A ARRESTEE - DURING ARREST         05A ARRESTEE - DURING ARREST  \n",
       "3  05N WEAPON - UNNECESSARY DISPLAY OF  05N WEAPON - UNNECESSARY DISPLAY OF  \n",
       "4         05A ARRESTEE - DURING ARREST         05A ARRESTEE - DURING ARREST  "
      ]
     },
     "execution_count": 10,
     "metadata": {},
     "output_type": "execute_result"
    }
   ],
   "source": [
    "pdf_complaint_df['INITIAL_COMPLAINT_CATEGORY'] = pdf_complaint_df['initial_category_code'] + ' ' + pdf_complaint_df['initial_complaint_category']\n",
    "pdf_complaint_df['FINAL_COMPLAINT_CATEGORY'] = pdf_complaint_df['final_category_code'] + ' ' + pdf_complaint_df['final_complaint_category']\n",
    "pdf_complaint_df.head()"
   ]
  },
  {
   "cell_type": "code",
   "execution_count": 11,
   "metadata": {
    "collapsed": true
   },
   "outputs": [],
   "source": [
    "pdf_complaint_df['UNIT'] = ''"
   ]
  },
  {
   "cell_type": "code",
   "execution_count": 12,
   "metadata": {
    "collapsed": true
   },
   "outputs": [],
   "source": [
    "pdf_complaint_df.to_csv('data/officer_complaint_merge_in_progress.csv',index=False)"
   ]
  },
  {
   "cell_type": "code",
   "execution_count": 13,
   "metadata": {
    "collapsed": false
   },
   "outputs": [
    {
     "data": {
      "text/html": [
       "<div>\n",
       "<table border=\"1\" class=\"dataframe\">\n",
       "  <thead>\n",
       "    <tr style=\"text-align: right;\">\n",
       "      <th></th>\n",
       "      <th>NAME</th>\n",
       "      <th>UNIT</th>\n",
       "      <th>DATE_OF_APPOINTMENT</th>\n",
       "      <th>CR_NO</th>\n",
       "      <th>INITIAL_COMPLAINT_CATEGORY</th>\n",
       "      <th>FINAL_COMPLAINT_CATEGORY</th>\n",
       "      <th>INCIDENT_DATE</th>\n",
       "      <th>COMPLAINT_DATE</th>\n",
       "      <th>CLOSED_DATE</th>\n",
       "      <th>FINAL_FINDING</th>\n",
       "      <th>ACTION_TAKEN</th>\n",
       "      <th>ACTION_DESCR</th>\n",
       "    </tr>\n",
       "  </thead>\n",
       "  <tbody>\n",
       "    <tr>\n",
       "      <th>0</th>\n",
       "      <td>PIWNICKI, RAYMOND</td>\n",
       "      <td></td>\n",
       "      <td>08-JUN-1998</td>\n",
       "      <td>263295</td>\n",
       "      <td>05A ARRESTEE - DURING ARREST</td>\n",
       "      <td>05A ARRESTEE - DURING ARREST</td>\n",
       "      <td>21-JUN-2000</td>\n",
       "      <td>22-JUN-2000</td>\n",
       "      <td>05-JAN-2001</td>\n",
       "      <td>NS</td>\n",
       "      <td>600</td>\n",
       "      <td>NO ACTION TAKEN</td>\n",
       "    </tr>\n",
       "    <tr>\n",
       "      <th>1</th>\n",
       "      <td>PIWNICKI, RAYMOND</td>\n",
       "      <td></td>\n",
       "      <td>08-JUN-1998</td>\n",
       "      <td>263967</td>\n",
       "      <td>10M INSUBORDINATION</td>\n",
       "      <td>10M INSUBORDINATION</td>\n",
       "      <td>15-JUL-2000</td>\n",
       "      <td>15-JUL-2000</td>\n",
       "      <td>05-OCT-2001</td>\n",
       "      <td>SU</td>\n",
       "      <td>100</td>\n",
       "      <td>REPRIMAND</td>\n",
       "    </tr>\n",
       "    <tr>\n",
       "      <th>2</th>\n",
       "      <td>PIWNICKI, RAYMOND</td>\n",
       "      <td></td>\n",
       "      <td>08-JUN-1998</td>\n",
       "      <td>265117</td>\n",
       "      <td>05A ARRESTEE - DURING ARREST</td>\n",
       "      <td>05A ARRESTEE - DURING ARREST</td>\n",
       "      <td>24-AUG-2000</td>\n",
       "      <td>24-AUG-2000</td>\n",
       "      <td>20-JAN-2001</td>\n",
       "      <td>NS</td>\n",
       "      <td>600</td>\n",
       "      <td>NO ACTION TAKEN</td>\n",
       "    </tr>\n",
       "    <tr>\n",
       "      <th>3</th>\n",
       "      <td>PIWNICKI, RAYMOND</td>\n",
       "      <td></td>\n",
       "      <td>08-JUN-1998</td>\n",
       "      <td>266694</td>\n",
       "      <td>05N WEAPON - UNNECESSARY DISPLAY OF</td>\n",
       "      <td>05N WEAPON - UNNECESSARY DISPLAY OF</td>\n",
       "      <td>13-AUG-2000</td>\n",
       "      <td>24-OCT-2000</td>\n",
       "      <td>21-MAY-2001</td>\n",
       "      <td>NS</td>\n",
       "      <td>600</td>\n",
       "      <td>NO ACTION TAKEN</td>\n",
       "    </tr>\n",
       "    <tr>\n",
       "      <th>4</th>\n",
       "      <td>PIWNICKI, RAYMOND</td>\n",
       "      <td></td>\n",
       "      <td>08-JUN-1998</td>\n",
       "      <td>266986</td>\n",
       "      <td>05A ARRESTEE - DURING ARREST</td>\n",
       "      <td>05A ARRESTEE - DURING ARREST</td>\n",
       "      <td>02-NOV-2000</td>\n",
       "      <td>03-NOV-2000</td>\n",
       "      <td>24-OCT-2001</td>\n",
       "      <td>UN</td>\n",
       "      <td>600</td>\n",
       "      <td>NO ACTION TAKEN</td>\n",
       "    </tr>\n",
       "  </tbody>\n",
       "</table>\n",
       "</div>"
      ],
      "text/plain": [
       "                NAME UNIT DATE_OF_APPOINTMENT   CR_NO  \\\n",
       "0  PIWNICKI, RAYMOND              08-JUN-1998  263295   \n",
       "1  PIWNICKI, RAYMOND              08-JUN-1998  263967   \n",
       "2  PIWNICKI, RAYMOND              08-JUN-1998  265117   \n",
       "3  PIWNICKI, RAYMOND              08-JUN-1998  266694   \n",
       "4  PIWNICKI, RAYMOND              08-JUN-1998  266986   \n",
       "\n",
       "            INITIAL_COMPLAINT_CATEGORY             FINAL_COMPLAINT_CATEGORY  \\\n",
       "0         05A ARRESTEE - DURING ARREST         05A ARRESTEE - DURING ARREST   \n",
       "1                  10M INSUBORDINATION                  10M INSUBORDINATION   \n",
       "2         05A ARRESTEE - DURING ARREST         05A ARRESTEE - DURING ARREST   \n",
       "3  05N WEAPON - UNNECESSARY DISPLAY OF  05N WEAPON - UNNECESSARY DISPLAY OF   \n",
       "4         05A ARRESTEE - DURING ARREST         05A ARRESTEE - DURING ARREST   \n",
       "\n",
       "  INCIDENT_DATE COMPLAINT_DATE  CLOSED_DATE FINAL_FINDING ACTION_TAKEN  \\\n",
       "0   21-JUN-2000    22-JUN-2000  05-JAN-2001            NS          600   \n",
       "1   15-JUL-2000    15-JUL-2000  05-OCT-2001            SU          100   \n",
       "2   24-AUG-2000    24-AUG-2000  20-JAN-2001            NS          600   \n",
       "3   13-AUG-2000    24-OCT-2000  21-MAY-2001            NS          600   \n",
       "4   02-NOV-2000    03-NOV-2000  24-OCT-2001            UN          600   \n",
       "\n",
       "      ACTION_DESCR  \n",
       "0  NO ACTION TAKEN  \n",
       "1        REPRIMAND  \n",
       "2  NO ACTION TAKEN  \n",
       "3  NO ACTION TAKEN  \n",
       "4  NO ACTION TAKEN  "
      ]
     },
     "execution_count": 13,
     "metadata": {},
     "output_type": "execute_result"
    }
   ],
   "source": [
    "pdf_complaint_merge = pdf_complaint_df[['officer_name', 'UNIT', 'appt_date', 'cr_no', 'INITIAL_COMPLAINT_CATEGORY',\n",
    "                                        'FINAL_COMPLAINT_CATEGORY', 'incident_date', 'complaint_date', 'closed_date',\n",
    "                                        'finding', 'ACTION_TAKEN', 'ACTION_DESCR']].copy()\n",
    "pdf_complaint_merge = pdf_complaint_merge.rename(columns={'officer_name': 'NAME', 'appt_date': 'DATE_OF_APPOINTMENT', \n",
    "                                                          'cr_no': 'CR_NO', 'incident_date': 'INCIDENT_DATE', \n",
    "                                                          'complaint_date': 'COMPLAINT_DATE', 'closed_date': 'CLOSED_DATE',\n",
    "                                                          'finding': 'FINAL_FINDING'})\n",
    "pdf_complaint_merge['ACTION_DESCR'] = pdf_complaint_merge['ACTION_DESCR'].str.upper()\n",
    "pdf_complaint_merge.head()"
   ]
  },
  {
   "cell_type": "code",
   "execution_count": 14,
   "metadata": {
    "collapsed": true
   },
   "outputs": [],
   "source": [
    "pdf_complaint_merge.to_csv('data/officer_complaints_merge_format.csv',index=False)"
   ]
  },
  {
   "cell_type": "code",
   "execution_count": 15,
   "metadata": {
    "collapsed": false
   },
   "outputs": [
    {
     "name": "stdout",
     "output_type": "stream",
     "text": [
      "<class 'pandas.core.frame.DataFrame'>\n",
      "Int64Index: 252597 entries, 0 to 117913\n",
      "Data columns (total 12 columns):\n",
      "NAME                          252597 non-null object\n",
      "UNIT                          252442 non-null object\n",
      "DATE_OF_APPOINTMENT           252400 non-null object\n",
      "CR_NO                         252597 non-null object\n",
      "INITIAL_COMPLAINT_CATEGORY    252597 non-null object\n",
      "FINAL_COMPLAINT_CATEGORY      252597 non-null object\n",
      "INCIDENT_DATE                 252376 non-null object\n",
      "COMPLAINT_DATE                252597 non-null object\n",
      "CLOSED_DATE                   251079 non-null object\n",
      "FINAL_FINDING                 217969 non-null object\n",
      "ACTION_TAKEN                  252597 non-null object\n",
      "ACTION_DESCR                  252597 non-null object\n",
      "dtypes: object(12)\n",
      "memory usage: 25.1+ MB\n"
     ]
    }
   ],
   "source": [
    "combined_complaint_df = pd.concat([complaint_df, pdf_complaint_merge])\n",
    "combined_complaint_df.info(verbose=True)"
   ]
  },
  {
   "cell_type": "code",
   "execution_count": 16,
   "metadata": {
    "collapsed": false
   },
   "outputs": [],
   "source": [
    "combined_complaint_df.to_csv('data/combined_officer_complaints.csv',index=False)"
   ]
  },
  {
   "cell_type": "code",
   "execution_count": 17,
   "metadata": {
    "collapsed": false
   },
   "outputs": [
    {
     "data": {
      "text/html": [
       "<div>\n",
       "<table border=\"1\" class=\"dataframe\">\n",
       "  <thead>\n",
       "    <tr style=\"text-align: right;\">\n",
       "      <th></th>\n",
       "      <th>NAME</th>\n",
       "      <th>UNIT</th>\n",
       "      <th>DATE_OF_APPOINTMENT</th>\n",
       "      <th>CR_NO</th>\n",
       "      <th>INITIAL_COMPLAINT_CATEGORY</th>\n",
       "      <th>FINAL_COMPLAINT_CATEGORY</th>\n",
       "      <th>INCIDENT_DATE</th>\n",
       "      <th>COMPLAINT_DATE</th>\n",
       "      <th>CLOSED_DATE</th>\n",
       "      <th>FINAL_FINDING</th>\n",
       "      <th>ACTION_TAKEN</th>\n",
       "      <th>ACTION_DESCR</th>\n",
       "      <th>NAME_NO_INITIAL</th>\n",
       "    </tr>\n",
       "  </thead>\n",
       "  <tbody>\n",
       "    <tr>\n",
       "      <th>0</th>\n",
       "      <td>ABBATE, ANTHONY G</td>\n",
       "      <td>011</td>\n",
       "      <td>05-DEC-1994</td>\n",
       "      <td>237004</td>\n",
       "      <td>05A   ARRESTEE - DURING ARREST</td>\n",
       "      <td>05B   ARRESTEE - DURING ARREST</td>\n",
       "      <td>21-MAY-1997</td>\n",
       "      <td>21-MAY-1997</td>\n",
       "      <td>25-MAY-1999</td>\n",
       "      <td>UN</td>\n",
       "      <td>600</td>\n",
       "      <td>NO ACTION TAKEN</td>\n",
       "      <td>ABBATE, ANTHONY</td>\n",
       "    </tr>\n",
       "    <tr>\n",
       "      <th>1</th>\n",
       "      <td>ABBATE, ANTHONY G</td>\n",
       "      <td>011</td>\n",
       "      <td>05-DEC-1994</td>\n",
       "      <td>258124</td>\n",
       "      <td>04E   PRISONERS PROPERTY - INVENTORY/RECEIPT</td>\n",
       "      <td>04E   PRISONERS PROPERTY - INVENTORY/RECEIPT</td>\n",
       "      <td>19-NOV-1999</td>\n",
       "      <td>20-NOV-1999</td>\n",
       "      <td>07-DEC-2000</td>\n",
       "      <td>NS</td>\n",
       "      <td>600</td>\n",
       "      <td>NO ACTION TAKEN</td>\n",
       "      <td>ABBATE, ANTHONY</td>\n",
       "    </tr>\n",
       "    <tr>\n",
       "      <th>2</th>\n",
       "      <td>ABBATE, CARMEL G</td>\n",
       "      <td>641</td>\n",
       "      <td>06-JAN-1969</td>\n",
       "      <td>190369</td>\n",
       "      <td>03G   MISCELLANEOUS</td>\n",
       "      <td>03G   MISCELLANEOUS</td>\n",
       "      <td>11-FEB-1992</td>\n",
       "      <td>11-FEB-1992</td>\n",
       "      <td>09-APR-1992</td>\n",
       "      <td>UN</td>\n",
       "      <td>600</td>\n",
       "      <td>NO ACTION TAKEN</td>\n",
       "      <td>ABBATE, CARMEL</td>\n",
       "    </tr>\n",
       "    <tr>\n",
       "      <th>3</th>\n",
       "      <td>ABBATE, CARMEL G</td>\n",
       "      <td>640</td>\n",
       "      <td>06-JAN-1969</td>\n",
       "      <td>210426</td>\n",
       "      <td>10V   INVENTORY PROCEDURES</td>\n",
       "      <td>04E   INVENTORY PROCEDURES</td>\n",
       "      <td>30-JUL-1994</td>\n",
       "      <td>14-JUL-1994</td>\n",
       "      <td>01-DEC-1994</td>\n",
       "      <td>NS</td>\n",
       "      <td>600</td>\n",
       "      <td>NO ACTION TAKEN</td>\n",
       "      <td>ABBATE, CARMEL</td>\n",
       "    </tr>\n",
       "    <tr>\n",
       "      <th>4</th>\n",
       "      <td>ABBATE, CARMEL G</td>\n",
       "      <td>640</td>\n",
       "      <td>06-JAN-1969</td>\n",
       "      <td>219424</td>\n",
       "      <td>09J   MISCELLANEOUS</td>\n",
       "      <td>05A   MISCELLANEOUS</td>\n",
       "      <td>12-JUL-1995</td>\n",
       "      <td>19-JUL-1995</td>\n",
       "      <td>23-JAN-1996</td>\n",
       "      <td>NS</td>\n",
       "      <td>600</td>\n",
       "      <td>NO ACTION TAKEN</td>\n",
       "      <td>ABBATE, CARMEL</td>\n",
       "    </tr>\n",
       "  </tbody>\n",
       "</table>\n",
       "</div>"
      ],
      "text/plain": [
       "                NAME UNIT DATE_OF_APPOINTMENT   CR_NO  \\\n",
       "0  ABBATE, ANTHONY G  011         05-DEC-1994  237004   \n",
       "1  ABBATE, ANTHONY G  011         05-DEC-1994  258124   \n",
       "2   ABBATE, CARMEL G  641         06-JAN-1969  190369   \n",
       "3   ABBATE, CARMEL G  640         06-JAN-1969  210426   \n",
       "4   ABBATE, CARMEL G  640         06-JAN-1969  219424   \n",
       "\n",
       "                     INITIAL_COMPLAINT_CATEGORY  \\\n",
       "0                05A   ARRESTEE - DURING ARREST   \n",
       "1  04E   PRISONERS PROPERTY - INVENTORY/RECEIPT   \n",
       "2                           03G   MISCELLANEOUS   \n",
       "3                    10V   INVENTORY PROCEDURES   \n",
       "4                           09J   MISCELLANEOUS   \n",
       "\n",
       "                       FINAL_COMPLAINT_CATEGORY INCIDENT_DATE COMPLAINT_DATE  \\\n",
       "0                05B   ARRESTEE - DURING ARREST   21-MAY-1997    21-MAY-1997   \n",
       "1  04E   PRISONERS PROPERTY - INVENTORY/RECEIPT   19-NOV-1999    20-NOV-1999   \n",
       "2                           03G   MISCELLANEOUS   11-FEB-1992    11-FEB-1992   \n",
       "3                    04E   INVENTORY PROCEDURES   30-JUL-1994    14-JUL-1994   \n",
       "4                           05A   MISCELLANEOUS   12-JUL-1995    19-JUL-1995   \n",
       "\n",
       "   CLOSED_DATE FINAL_FINDING ACTION_TAKEN     ACTION_DESCR  NAME_NO_INITIAL  \n",
       "0  25-MAY-1999            UN          600  NO ACTION TAKEN  ABBATE, ANTHONY  \n",
       "1  07-DEC-2000            NS          600  NO ACTION TAKEN  ABBATE, ANTHONY  \n",
       "2  09-APR-1992            UN          600  NO ACTION TAKEN   ABBATE, CARMEL  \n",
       "3  01-DEC-1994            NS          600  NO ACTION TAKEN   ABBATE, CARMEL  \n",
       "4  23-JAN-1996            NS          600  NO ACTION TAKEN   ABBATE, CARMEL  "
      ]
     },
     "execution_count": 17,
     "metadata": {},
     "output_type": "execute_result"
    }
   ],
   "source": [
    "combined_complaint_df['NAME_NO_INITIAL'] = combined_complaint_df['NAME'].apply(lambda x: x[:-2] if re.match('.*\\s\\w$', x) is not None else x)\n",
    "combined_complaint_df.head()"
   ]
  },
  {
   "cell_type": "code",
   "execution_count": 18,
   "metadata": {
    "collapsed": true
   },
   "outputs": [],
   "source": [
    "# Need to manually convert CR_NO to string when checking for uniques because first dataset has it as int64\n",
    "combined_complaint_df['CR_NO'] = combined_complaint_df['CR_NO'].astype(str)"
   ]
  },
  {
   "cell_type": "code",
   "execution_count": 19,
   "metadata": {
    "collapsed": false
   },
   "outputs": [
    {
     "data": {
      "text/plain": [
       "(252597, 13)"
      ]
     },
     "execution_count": 19,
     "metadata": {},
     "output_type": "execute_result"
    }
   ],
   "source": [
    "combined_complaint_df.shape"
   ]
  },
  {
   "cell_type": "code",
   "execution_count": 26,
   "metadata": {
    "collapsed": false
   },
   "outputs": [],
   "source": [
    "complaint_drop_dupes = combined_complaint_df.drop_duplicates(subset=['NAME_NO_INITIAL', 'CR_NO'])\n",
    "complaint_drop_dupes.to_csv('data/combined_complaints_dedupe.csv',index=False)"
   ]
  },
  {
   "cell_type": "code",
   "execution_count": 66,
   "metadata": {
    "collapsed": true
   },
   "outputs": [],
   "source": [
    "combined_complaint_df.to_csv('data/combined_officer_complaints_no_initials.csv',index=False)"
   ]
  },
  {
   "cell_type": "code",
   "execution_count": 27,
   "metadata": {
    "collapsed": false
   },
   "outputs": [],
   "source": [
    "combined_complaint_df['NAME'].unique().shape"
   ]
  },
  {
   "cell_type": "code",
   "execution_count": 28,
   "metadata": {
    "collapsed": false
   },
   "outputs": [
    {
     "data": {
      "text/plain": [
       "(18907,)"
      ]
     },
     "execution_count": 28,
     "metadata": {},
     "output_type": "execute_result"
    }
   ],
   "source": [
    "complaint_df['NAME'].unique().shape"
   ]
  },
  {
   "cell_type": "code",
   "execution_count": 29,
   "metadata": {
    "collapsed": false
   },
   "outputs": [
    {
     "data": {
      "text/plain": [
       "(14839,)"
      ]
     },
     "execution_count": 29,
     "metadata": {},
     "output_type": "execute_result"
    }
   ],
   "source": [
    "pdf_complaint_merge['NAME'].unique().shape"
   ]
  },
  {
   "cell_type": "code",
   "execution_count": 30,
   "metadata": {
    "collapsed": false
   },
   "outputs": [
    {
     "data": {
      "text/plain": [
       "(23166,)"
      ]
     },
     "execution_count": 30,
     "metadata": {},
     "output_type": "execute_result"
    }
   ],
   "source": [
    "combined_complaint_df['NAME_NO_INITIAL'].unique().shape"
   ]
  },
  {
   "cell_type": "code",
   "execution_count": 31,
   "metadata": {
    "collapsed": false
   },
   "outputs": [
    {
     "data": {
      "text/plain": [
       "NAME_NO_INITIAL  DATE_OF_APPOINTMENT\n",
       "AARON, JEFFERY   26-SEP-2005            5\n",
       "AARON, KARINA    26-SEP-2005            8\n",
       "ABBATE, ANTHONY  05-DEC-1994            6\n",
       "ABBATE, CARMEL   06-JAN-1969            6\n",
       "ABBATE, CARMEN   16-OCT-1954            4\n",
       "Name: CR_NO, dtype: int64"
      ]
     },
     "execution_count": 31,
     "metadata": {},
     "output_type": "execute_result"
    }
   ],
   "source": [
    "complaints_by_officer = combined_complaint_df.loc[combined_complaint_df['CR_NO'] != '***'].groupby(\n",
    "    ['NAME_NO_INITIAL','DATE_OF_APPOINTMENT'])['CR_NO'].nunique()\n",
    "complaints_by_officer.head()"
   ]
  },
  {
   "cell_type": "code",
   "execution_count": 32,
   "metadata": {
    "collapsed": false
   },
   "outputs": [
    {
     "data": {
      "text/plain": [
       "NAME_NO_INITIAL     DATE_OF_APPOINTMENT\n",
       "FINNIGAN, JEROME    05-DEC-1988            157\n",
       "PARKER, JOE         18-NOV-1985            130\n",
       "MAY, EDWARD         26-APR-1976            130\n",
       "TOUSSAS, CHARLES    19-JAN-1981            117\n",
       "OSBORN, KEVIN       02-JAN-1992            116\n",
       "EVANS, GLENN        14-JUL-1986            115\n",
       "ZELITZKY, ADAM      05-DEC-1988            107\n",
       "TURBYVILLE, JEROME  02-MAY-1994            100\n",
       "GRUBBS, JAMES       29-SEP-1980             98\n",
       "JACKSON, GREGORY    27-FEB-1991             97\n",
       "CLAYTON, MAURICE    22-OCT-1973             97\n",
       "PIWNICKI, RAYMOND   08-JUN-1998             93\n",
       "WOJTAN, KENNETH     13-DEC-1993             93\n",
       "MATTHEWS, TAMARA    02-MAY-1994             92\n",
       "JONES, BRODERICK    05-MAY-1997             91\n",
       "Name: CR_NO, dtype: int64"
      ]
     },
     "execution_count": 32,
     "metadata": {},
     "output_type": "execute_result"
    }
   ],
   "source": [
    "top_100_officers = complaints_by_officer.sort_values(ascending=False)[:100]\n",
    "top_100_officers[:15]"
   ]
  },
  {
   "cell_type": "code",
   "execution_count": 33,
   "metadata": {
    "collapsed": false
   },
   "outputs": [
    {
     "data": {
      "text/plain": [
       "NAME               DATE_OF_APPOINTMENT\n",
       "FINNIGAN, JEROME   05-DEC-1988            88\n",
       "PIWNICKI, RAYMOND  08-JUN-1998            88\n",
       "CAMPBELL, SEAN     13-APR-1998            83\n",
       "WOJTAN, KENNETH    13-DEC-1993            79\n",
       "HERRERA, KEITH     19-JUN-2000            78\n",
       "OSBORN, KEVIN      02-JAN-1992            78\n",
       "CONNOLLY, MICHAEL  02-SEP-1997            77\n",
       "MATTHEWS, TAMARA   02-MAY-1994            75\n",
       "ANDERSON, MAURICE  07-JUL-1997            71\n",
       "FLAGG, COREY       04-NOV-1996            70\n",
       "COLEMAN, RONALD    13-DEC-1999            70\n",
       "CAREY, THOMAS      05-JUN-1995            69\n",
       "SCHULZ, ANTHONY    04-NOV-1996            69\n",
       "SMITH, ROBERT      02-DEC-1996            69\n",
       "MARKOVICH, NENAD   04-NOV-1996            69\n",
       "Name: CR_NO, dtype: int64"
      ]
     },
     "execution_count": 33,
     "metadata": {},
     "output_type": "execute_result"
    }
   ],
   "source": [
    "complaints_by_officer_pdf = pdf_complaint_merge.groupby(['NAME','DATE_OF_APPOINTMENT'])['CR_NO'].count()\n",
    "complaints_by_officer_pdf = complaints_by_officer_pdf.sort_values(ascending=False)\n",
    "complaints_by_officer_pdf[:15]"
   ]
  },
  {
   "cell_type": "code",
   "execution_count": 34,
   "metadata": {
    "collapsed": false
   },
   "outputs": [
    {
     "data": {
      "text/plain": [
       "125663"
      ]
     },
     "execution_count": 34,
     "metadata": {},
     "output_type": "execute_result"
    }
   ],
   "source": [
    "combined_complaint_df.loc[combined_complaint_df['CR_NO'] != '***', 'CR_NO'].nunique()"
   ]
  },
  {
   "cell_type": "code",
   "execution_count": 35,
   "metadata": {
    "collapsed": false
   },
   "outputs": [
    {
     "data": {
      "text/plain": [
       "COMPLAINT_DATE\n",
       "01-APR-1980     1\n",
       "01-APR-1985     1\n",
       "01-APR-1986     1\n",
       "01-APR-1987     1\n",
       "01-APR-1991    19\n",
       "Name: CR_NO, dtype: int64"
      ]
     },
     "execution_count": 35,
     "metadata": {},
     "output_type": "execute_result"
    }
   ],
   "source": [
    "dates_by_complaints = combined_complaint_df.loc[combined_complaint_df['CR_NO'] != '***'].groupby(\n",
    "    ['COMPLAINT_DATE'])['CR_NO'].nunique()\n",
    "dates_by_complaints.head()"
   ]
  },
  {
   "cell_type": "code",
   "execution_count": 36,
   "metadata": {
    "collapsed": false
   },
   "outputs": [
    {
     "data": {
      "text/html": [
       "<div>\n",
       "<table border=\"1\" class=\"dataframe\">\n",
       "  <thead>\n",
       "    <tr style=\"text-align: right;\">\n",
       "      <th></th>\n",
       "      <th>COMPLAINT_DATE</th>\n",
       "      <th>CR_NO</th>\n",
       "    </tr>\n",
       "  </thead>\n",
       "  <tbody>\n",
       "    <tr>\n",
       "      <th>0</th>\n",
       "      <td>01-APR-1980</td>\n",
       "      <td>1</td>\n",
       "    </tr>\n",
       "    <tr>\n",
       "      <th>1</th>\n",
       "      <td>01-APR-1985</td>\n",
       "      <td>1</td>\n",
       "    </tr>\n",
       "    <tr>\n",
       "      <th>2</th>\n",
       "      <td>01-APR-1986</td>\n",
       "      <td>1</td>\n",
       "    </tr>\n",
       "    <tr>\n",
       "      <th>3</th>\n",
       "      <td>01-APR-1987</td>\n",
       "      <td>1</td>\n",
       "    </tr>\n",
       "    <tr>\n",
       "      <th>4</th>\n",
       "      <td>01-APR-1991</td>\n",
       "      <td>19</td>\n",
       "    </tr>\n",
       "  </tbody>\n",
       "</table>\n",
       "</div>"
      ],
      "text/plain": [
       "  COMPLAINT_DATE  CR_NO\n",
       "0    01-APR-1980      1\n",
       "1    01-APR-1985      1\n",
       "2    01-APR-1986      1\n",
       "3    01-APR-1987      1\n",
       "4    01-APR-1991     19"
      ]
     },
     "execution_count": 36,
     "metadata": {},
     "output_type": "execute_result"
    }
   ],
   "source": [
    "dates_by_complaints = pd.DataFrame(dates_by_complaints).reset_index()\n",
    "dates_by_complaints.head()"
   ]
  },
  {
   "cell_type": "code",
   "execution_count": 37,
   "metadata": {
    "collapsed": false
   },
   "outputs": [
    {
     "data": {
      "text/html": [
       "<div>\n",
       "<table border=\"1\" class=\"dataframe\">\n",
       "  <thead>\n",
       "    <tr style=\"text-align: right;\">\n",
       "      <th></th>\n",
       "      <th>COMPLAINT_DATE</th>\n",
       "      <th>CR_NO</th>\n",
       "    </tr>\n",
       "  </thead>\n",
       "  <tbody>\n",
       "    <tr>\n",
       "      <th>0</th>\n",
       "      <td>1980-04-01</td>\n",
       "      <td>1</td>\n",
       "    </tr>\n",
       "    <tr>\n",
       "      <th>1</th>\n",
       "      <td>1985-04-01</td>\n",
       "      <td>1</td>\n",
       "    </tr>\n",
       "    <tr>\n",
       "      <th>2</th>\n",
       "      <td>1986-04-01</td>\n",
       "      <td>1</td>\n",
       "    </tr>\n",
       "    <tr>\n",
       "      <th>3</th>\n",
       "      <td>1987-04-01</td>\n",
       "      <td>1</td>\n",
       "    </tr>\n",
       "    <tr>\n",
       "      <th>4</th>\n",
       "      <td>1991-04-01</td>\n",
       "      <td>19</td>\n",
       "    </tr>\n",
       "  </tbody>\n",
       "</table>\n",
       "</div>"
      ],
      "text/plain": [
       "  COMPLAINT_DATE  CR_NO\n",
       "0     1980-04-01      1\n",
       "1     1985-04-01      1\n",
       "2     1986-04-01      1\n",
       "3     1987-04-01      1\n",
       "4     1991-04-01     19"
      ]
     },
     "execution_count": 37,
     "metadata": {},
     "output_type": "execute_result"
    }
   ],
   "source": [
    "dates_by_complaints['COMPLAINT_DATE'] = pd.to_datetime(dates_by_complaints['COMPLAINT_DATE'])\n",
    "dates_by_complaints.head()"
   ]
  },
  {
   "cell_type": "code",
   "execution_count": 38,
   "metadata": {
    "collapsed": false
   },
   "outputs": [
    {
     "data": {
      "text/plain": [
       "<matplotlib.axes._subplots.AxesSubplot at 0x11c71f860>"
      ]
     },
     "execution_count": 38,
     "metadata": {},
     "output_type": "execute_result"
    },
    {
     "data": {
      "image/png": "[encoded data removed]",
      "text/plain": [
       "<matplotlib.figure.Figure at 0x11c71f9e8>"
      ]
     },
     "metadata": {},
     "output_type": "display_data"
    }
   ],
   "source": [
    "dates_by_complaints = dates_by_complaints.set_index(pd.DatetimeIndex(dates_by_complaints['COMPLAINT_DATE']))\n",
    "dates_by_complaints.plot(y='CR_NO')"
   ]
  },
  {
   "cell_type": "code",
   "execution_count": 39,
   "metadata": {
    "collapsed": false
   },
   "outputs": [
    {
     "data": {
      "text/plain": [
       "1967-10-31    1.0\n",
       "1967-11-30    NaN\n",
       "1967-12-31    NaN\n",
       "1968-01-31    NaN\n",
       "1968-02-29    NaN\n",
       "Freq: M, Name: CR_NO, dtype: float64"
      ]
     },
     "execution_count": 39,
     "metadata": {},
     "output_type": "execute_result"
    }
   ],
   "source": [
    "months_by_complaints = dates_by_complaints['CR_NO'].resample('M').sum()\n",
    "months_by_complaints.head()"
   ]
  },
  {
   "cell_type": "code",
   "execution_count": 40,
   "metadata": {
    "collapsed": false
   },
   "outputs": [
    {
     "data": {
      "text/plain": [
       "<matplotlib.axes._subplots.AxesSubplot at 0x1140562e8>"
      ]
     },
     "execution_count": 40,
     "metadata": {},
     "output_type": "execute_result"
    },
    {
     "data": {
      "image/png": "[encoded data removed]",
      "text/plain": [
       "<matplotlib.figure.Figure at 0x1179c2978>"
      ]
     },
     "metadata": {},
     "output_type": "display_data"
    }
   ],
   "source": [
    "months_by_complaints.plot()"
   ]
  },
  {
   "cell_type": "code",
   "execution_count": null,
   "metadata": {
    "collapsed": true
   },
   "outputs": [],
   "source": []
  }
 ],
 "metadata": {
  "kernelspec": {
   "display_name": "Python 3",
   "language": "python",
   "name": "python3"
  },
  "language_info": {
   "codemirror_mode": {
    "name": "ipython",
    "version": 3
   },
   "file_extension": ".py",
   "mimetype": "text/x-python",
   "name": "python",
   "nbconvert_exporter": "python",
   "pygments_lexer": "ipython3",
   "version": "3.5.2"
  }
 },
 "nbformat": 4,
 "nbformat_minor": 1
}
